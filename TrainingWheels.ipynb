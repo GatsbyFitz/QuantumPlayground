{
 "cells": [
  {
   "cell_type": "code",
   "execution_count": 1,
   "id": "399d678d",
   "metadata": {},
   "outputs": [],
   "source": [
    "# Soooo call"
   ]
  },
  {
   "cell_type": "markdown",
   "id": "2487595b",
   "metadata": {},
   "source": [
    "## Yo Yo yo "
   ]
  },
  {
   "cell_type": "code",
   "execution_count": null,
   "id": "b22a831d",
   "metadata": {},
   "outputs": [],
   "source": [
    "asdasdasdasd"
   ]
  }
 ],
 "metadata": {
  "kernelspec": {
   "display_name": "Python 3",
   "language": "python",
   "name": "python3"
  },
  "language_info": {
   "codemirror_mode": {
    "name": "ipython",
    "version": 3
   },
   "file_extension": ".py",
   "mimetype": "text/x-python",
   "name": "python",
   "nbconvert_exporter": "python",
   "pygments_lexer": "ipython3",
   "version": "3.11.3"
  }
 },
 "nbformat": 4,
 "nbformat_minor": 5
}
