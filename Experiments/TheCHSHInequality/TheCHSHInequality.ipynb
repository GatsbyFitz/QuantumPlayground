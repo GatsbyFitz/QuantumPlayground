{
 "cells": [
  {
   "cell_type": "markdown",
   "id": "0ca4d125",
   "metadata": {},
   "source": [
    "# CHSH inequality\n",
    "\n",
    "Once again, as we continue our exploration of basic quantum computing experiments and practices, this time we tackle the CHSH inequality, following IBM's wonderful tutorial here: https://quantum.cloud.ibm.com/docs/en/tutorials/chsh-inequality\n",
    "\n",
    "But I'll be diving a few layers deeper to provide a more balanced and simpler explanation of what the hell is going on?\n",
    "\n",
    "\n",
    "#### What is the CHSH inequality?\n",
    "\n",
    "Firstly, CHSH is simply the authors: Clauser, Horne, Shimony, and Holt. The CHSH inequality is a mathematical expression used to test whether the predictions of quantum mechanics:\n",
    "\n",
    "Which predicts that the CHSH inequality can be violated, with a maximum value of \n",
    "$$\n",
    "2\\sqrt{2} \\approx 2.828\n",
    "$$\n",
    ", exceeding the classical bound of 2.\n",
    "\n",
    "It experiments, whether this can actually be explained by any local hidden variable theory:\n",
    "\n",
    "Aa classical idea that tries to explain quantum phenomena using two assumptions:\n",
    "- Locality: No information or influence travels faster than light. What happens to one particle cannot instantly affect another far away.\n",
    "- Realism: Particles have pre-existing properties (hidden variables) that determine the outcomes of measurements, even if we don’t know them.\n",
    "\n",
    "In this view, the strange correlations seen in quantum experiments are just the result of these hidden variables — not spooky action at a distance.\n",
    "\n",
    "#### Bell's theorem\n",
    "\n",
    "Bell’s Theorem, formulated by physicist John Stewart Bell in 1964, addresses a fundamental question raised by Einstein, Podolsky, and Rosen (EPR) in 1935: Is quantum mechanics a complete theory, or are there “hidden variables” that determine outcomes behind the scenes?\n",
    "\n",
    "Bell showed that if such hidden variables exist and if they obey locality (no faster-than-light influence), then the correlations between entangled particles must obey certain mathematical limits — now known as Bell inequalities.\n",
    "\n"
   ]
  },
  {
   "cell_type": "markdown",
   "id": "31926fa1",
   "metadata": {},
   "source": [
    "## Step 1. Mapping the Problem, and creating the circuit\n",
    "\n",
    "To perform this experiment requires the entanglement of a pair of qubits on two different bases. \n",
    "\n",
    "### What are bases?\n",
    "\n",
    "\n",
    "\n"
   ]
  }
 ],
 "metadata": {
  "language_info": {
   "name": "python"
  }
 },
 "nbformat": 4,
 "nbformat_minor": 5
}
