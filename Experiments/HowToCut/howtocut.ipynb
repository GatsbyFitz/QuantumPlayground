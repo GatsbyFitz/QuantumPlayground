{
 "cells": [
  {
   "cell_type": "markdown",
   "id": "af85525a",
   "metadata": {},
   "source": [
    "# How To Cut\n",
    "## Utility-scale QAOA\n",
    "\n",
    "So to date, I have developed Quantum Circuits to purely measure Entanglement in both a two-qubit bell state, and a 100-qubit GHZ state. It's time to actually solve a problem, specifically the Max-Cut optimisation problem. So as before, we are following along with a wonderful IBM tutorial, however, unlike IBM, we will be diving head first into some of the underlying theory and code in more detail. Really so we can start to build up a stronger foundation of knowledge rather than blindingly following the tutorial. So let's get into it. \n",
    "\n",
    "\n",
    "\n"
   ]
  }
 ],
 "metadata": {
  "language_info": {
   "name": "python"
  }
 },
 "nbformat": 4,
 "nbformat_minor": 5
}
