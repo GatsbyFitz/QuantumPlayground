{
 "cells": [
  {
   "cell_type": "markdown",
   "id": "1e3e673f",
   "metadata": {},
   "source": [
    "# Hello World\n",
    "\n",
    "In this tutorial I'll be following along a simple demonstration of setting up a **quantum program**, and running it on a **quantum processing unit (QPU)**. You have to start somewhere, and the best place is usually from the beginning. \n",
    "\n",
    "Along this tutorial in which we will be creating a simple Bell state circuit, the quantum version of Hello World!\n",
    "\n",
    "But I'll be adding an additional layer of commentary, and making it my own, to help turn this tutorial into something that a mere mortal might be able to understand. If one comes away from this understanding 10% of what is going on, one is doing very well. Better than me...\n",
    "\n",
    "Of course, I skipped over the introductions course. The best learning is done through doing! Working with your hands, rather than pondering in the skies. \n",
    "\n",
    "Ref: https://quantum.cloud.ibm.com/docs/en/tutorials/hello-world"
   ]
  },
  {
   "cell_type": "markdown",
   "id": "5a6c18a4",
   "metadata": {},
   "source": [
    "#### On a side note\n",
    "\n",
    "You may be thinking, what is the point? Why not just follow along with the tutorial and do it. Well it is very easy to just mindlessly copy and execute code, and feel that satisfaction of doing. But to actually understand what's happening, and the underlying calculations. That's a whole another pursuit. I'm not saying I even come close to be successful here. But maybe one day."
   ]
  },
  {
   "cell_type": "markdown",
   "id": "4089bac7",
   "metadata": {},
   "source": [
    "### What is a Bell state circuit?\n",
    "\n",
    "A Bell state circuit is made up of two gates, the Hadamard gate and a CNOT gate, more on this laters. The combination of these two circuits allow you to investigate the Bell states. Essentially, the 4 states that are created when two qubits are entangled. \n",
    "\n",
    "*these are also known as EPR states*\n",
    "\n",
    "The four bell states:\n",
    "|β₀₀⟩ = (|00⟩ + |11⟩) / √2\n",
    "|β₀₁⟩ = (|01⟩ + |10⟩) / √2\n",
    "|β₁₀⟩ = (|00⟩ - |11⟩) / √2\n",
    "|β₁₁⟩ = (|01⟩ - |10⟩) / √2\n",
    "\n",
    "#### What this actually means\n",
    "\n",
    "The end states are denoted as |β₀₀⟩, |β₀₁⟩, |β₁₀⟩, |β₁₁⟩, also known as  Φ⁺, Φ⁻, Ψ⁺, Ψ⁻\n",
    "\n",
    "- |00⟩ = both qubits in state 0\n",
    "- |01⟩ = first qubit in state 0, second qubit in state 1  \n",
    "- |10⟩ = first qubit in state 1, second qubit in state 0\n",
    "- |11⟩ = both qubits in state 1\n",
    "\n",
    "*In dirac notion, the first number in the brackets is the first qubit, the second the second. \n",
    "\n",
    "#### The mathematics\n",
    "\n",
    "1. You start with the initial state of |00⟩\n",
    "\n",
    "2. Application of the Hadamard gate put it into a superposition of |0⟩ and |1⟩: (|00⟩ + |10⟩)/√2 \n",
    "\n",
    "3. CNOT gate then flips the second qubit, depending on the first: (|00⟩ + |11⟩)/√2 = |β₀₀⟩. We can see that in the first |00 becayse the first qubit is 0, the second doesnt flip, but then in the second because the first is 1, the second is now 1. \n",
    "\n",
    "4. The main point is that because the second qubit depends on the superposition of the first, this means the two qubits are entangled. If this doesn't immediately make sense, neither. But let's proceed forth in ignorance for now. Some understanding just takes time. \n",
    "\n"
   ]
  },
  {
   "cell_type": "markdown",
   "id": "0f98b06c",
   "metadata": {},
   "source": [
    "## Step 1. Crafting Quantum Instructions\n",
    "\n",
    "Quantum Circuits are the human, visual interface that we craft a set of intructions that a Quantum Computer can action. We will be using the Qiskit SDK here. I'll try to explain the code as we go along"
   ]
  },
  {
   "cell_type": "code",
   "execution_count": 2,
   "id": "bdf5e606",
   "metadata": {},
   "outputs": [
    {
     "data": {
      "image/png": "[encoded data removed]",
      "text/plain": [
       "<Figure size 287.294x200.667 with 1 Axes>"
      ]
     },
     "execution_count": 2,
     "metadata": {},
     "output_type": "execute_result"
    }
   ],
   "source": [
    "from qiskit import *\n",
    "\n",
    "\n",
    "# Create a Quantum Circuit with 2 qubits using qiskit\n",
    "qc = QuantumCircuit(2)\n",
    "\n",
    "# Apply Hadamard gate to the first qubit\n",
    "qc.h(0) \n",
    "\n",
    "# Apply CNOT gate with control qubit 0 and target qubit 1\n",
    "qc.cx(0, 1)\n",
    "\n",
    "\n",
    "qc.draw(output=\"mpl\")\n"
   ]
  },
  {
   "cell_type": "markdown",
   "id": "d702ba20",
   "metadata": {},
   "source": [
    "## Step 2. Setting up the output\n",
    "\n",
    "In the world of Qiskit, you can return data in two fashions, a probability distribution across a set of qubits, or the expectation value of an observable. \n",
    "\n",
    "### Probability Distribution\n",
    "Shows frequency of each state e.g. frquency of measuring 00, 01, 10, 11\n",
    "\n",
    "### Expectation Values\n",
    "\"Gives yuo quantum mechanical averages\"...yeah I can't think of a good way to explain this, so maybe I'll try to show you.\n",
    "\n",
    "As, in this example, we measure expectation values.\n",
    "\n",
    "To do this, we need to create 6 two-qubit Pauli Operators: IZ, IX, ZI, XI, ZZ, XX. \n",
    "\n",
    "### What are these you ask?\n",
    "\n",
    "Well before we start with the two, we should probably start with the single qubit pauli matrices\n",
    "\n",
    "The Four Pauli Matrices\n",
    "\n",
    "#### I (Identity Matrix)\n",
    "I = (1  0)\n",
    "    (0  1)\n",
    "\n",
    "Effect: Does nothing - leaves the qubit unchanged\n",
    "Physical meaning: No operation applied\n",
    "On |0⟩: I|0⟩ = |0⟩\n",
    "On |1⟩: I|1⟩ = |1⟩\n",
    "\n",
    "#### X (Pauli-X / NOT Gate)\n",
    "X = (0  1)\n",
    "    (1  0)\n",
    "Effect: Flips the qubit state (bit flip)\n",
    "Physical meaning: Rotation around X-axis of Bloch sphere\n",
    "On |0⟩: X|0⟩ = |1⟩\n",
    "On |1⟩: X|1⟩ = |0⟩\n",
    "\n",
    "#### Y (Pauli-Y)\n",
    "\n",
    "Y = (0  -i)\n",
    "    (i   0)\n",
    "\n",
    "Effect: Combines bit flip and phase flip\n",
    "Physical meaning: Rotation around Y-axis of Bloch sphere\n",
    "On |0⟩: Y|0⟩ = i|1⟩\n",
    "On |1⟩: Y|1⟩ = -i|0⟩\n",
    "\n",
    "#### Z (Pauli-Z / Phase Flip)\n",
    "Effect: Flips the phase (leaves |0⟩ unchanged, adds minus sign to |1⟩)\n",
    "Physical meaning: Rotation around Z-axis of Bloch sphere\n",
    "On |0⟩: Z|0⟩ = |0⟩\n",
    "On |1⟩: Z|1⟩ = -|1⟩\n",
    "\n"
   ]
  },
  {
   "cell_type": "markdown",
   "id": "ce1b2741",
   "metadata": {},
   "source": [
    "### TLDR\n",
    "\n",
    "So long story short, the way I like to think of it (perhaps wrongly) is the these operators represent the change to the qubits value that we might expect. The expectation value of an operator is the average outcome that you would obtain \n",
    "\n",
    "So I represents no change before and after the quantum circuit, Y is a flip in the Y axis, and Z is a rotation in the Z axis. "
   ]
  },
  {
   "cell_type": "markdown",
   "id": "e9a50b02",
   "metadata": {},
   "source": [
    "## Back to two-bit Pauli Operators"
   ]
  },
  {
   "cell_type": "code",
   "execution_count": null,
   "id": "9d769a89",
   "metadata": {},
   "outputs": [],
   "source": [
    "# We use SparsePauliOp from the quantum_info to define observables\n",
    "from qiskit.quantum_info import SparsePauliOp\n",
    "\n",
    "\n",
    "observables = [\n",
    "    SparsePauliOp(\"IZ\"),  # I⊗Z: Identity on qubit 0, Z on qubit 1\n",
    "    SparsePauliOp(\"ZI\"),  # Z⊗I: Z on qubit 0, Identity on qubit 1  \n",
    "    SparsePauliOp(\"ZZ\"),  # Z⊗Z: Z measurement on both qubits\n",
    "    SparsePauliOp(\"XX\"),  # X⊗X: X measurement on both qubits\n",
    "    SparsePauliOp(\"YY\"),  # Y⊗Y: Y measurement on both qubits\n",
    "]\n"
   ]
  },
  {
   "cell_type": "code",
   "execution_count": null,
   "id": "399d678d",
   "metadata": {},
   "outputs": [],
   "source": []
  },
  {
   "cell_type": "markdown",
   "id": "2487595b",
   "metadata": {},
   "source": []
  },
  {
   "cell_type": "code",
   "execution_count": null,
   "id": "b22a831d",
   "metadata": {},
   "outputs": [],
   "source": []
  }
 ],
 "metadata": {
  "kernelspec": {
   "display_name": "quantum_env (3.11.3)",
   "language": "python",
   "name": "python3"
  },
  "language_info": {
   "codemirror_mode": {
    "name": "ipython",
    "version": 3
   },
   "file_extension": ".py",
   "mimetype": "text/x-python",
   "name": "python",
   "nbconvert_exporter": "python",
   "pygments_lexer": "ipython3",
   "version": "3.11.3"
  }
 },
 "nbformat": 4,
 "nbformat_minor": 5
}
