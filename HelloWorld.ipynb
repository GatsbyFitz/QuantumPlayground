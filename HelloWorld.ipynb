{
 "cells": [
  {
   "cell_type": "markdown",
   "id": "1e3e673f",
   "metadata": {},
   "source": [
    "# Hello World\n",
    "\n",
    "In this tutorial I'll be following along a simple demonstration of setting up a **quantum program**, and running it on a **quantum processing unit (QPU)**. You have to start somewhere, and the best place is usually from the beginning. \n",
    "\n",
    "Along this tutorial in which we will be creating a simple Bell state circuit, the quantum version of Hello World!\n",
    "\n",
    "But I'll be adding an additional layer of commentary, and making it my own, to help turn this tutorial into something that a mere mortal might be able to understand. If one comes away from this understanding 10% of what is going on, one is doing very well. Better than me...\n",
    "\n",
    "Of course, I skipped over the introductions course. The best learning is done through doing! Working with your hands, rather than pondering in the skies. \n",
    "\n",
    "Ref: https://quantum.cloud.ibm.com/docs/en/tutorials/hello-world"
   ]
  },
  {
   "cell_type": "markdown",
   "id": "5a6c18a4",
   "metadata": {},
   "source": [
    "#### On a side note\n",
    "\n",
    "You may be thinking, what is the point? Why not just follow along with the tutorial and do it. Well for two reasons, #1 the referenced tutorial makes no sense to an actual human, #2 it is very easy to just mindlessly copy and execute code, and feel that satisfaction of doing. But to actually understand what's happening, and the underlying calculations. That's a whole another pursuit. I'm not saying I even come close to be successful here. But maybe one day."
   ]
  },
  {
   "cell_type": "markdown",
   "id": "4089bac7",
   "metadata": {},
   "source": [
    "### What is a Bell state circuit?\n",
    "\n",
    "A Bell state circuit is made up of two gates, the Hadamard gate and a CNOT gate, more on this laters. The combination of these two circuits allow you to investigate the Bell states. Essentially, the 4 states that are created when two qubits are entangled. \n",
    "\n",
    "*these are also known as EPR states*\n",
    "\n",
    "The four bell states:\n",
    "|β₀₀⟩ = (|00⟩ + |11⟩) / √2\n",
    "|β₀₁⟩ = (|01⟩ + |10⟩) / √2\n",
    "|β₁₀⟩ = (|00⟩ - |11⟩) / √2\n",
    "|β₁₁⟩ = (|01⟩ - |10⟩) / √2\n",
    "\n",
    "#### What this actually means\n",
    "\n",
    "The end states are denoted as |β₀₀⟩, |β₀₁⟩, |β₁₀⟩, |β₁₁⟩, also known as  Φ⁺, Φ⁻, Ψ⁺, Ψ⁻\n",
    "\n",
    "- |00⟩ = both qubits in state 0\n",
    "- |01⟩ = first qubit in state 0, second qubit in state 1  \n",
    "- |10⟩ = first qubit in state 1, second qubit in state 0\n",
    "- |11⟩ = both qubits in state 1\n",
    "\n",
    "*In dirac notion, the first number in the brackets is the first qubit, the second the second. \n",
    "\n",
    "#### The mathematics\n",
    "\n",
    "1. You start with the initial state of |00⟩\n",
    "\n",
    "2. Application of the Hadamard gate put it into a superposition of |0⟩ and |1⟩: (|00⟩ + |10⟩)/√2 \n",
    "\n",
    "3. CNOT gate then flips the second qubit, depending on the first: (|00⟩ + |11⟩)/√2 = |β₀₀⟩. We can see that in the first |00 becayse the first qubit is 0, the second doesnt flip, but then in the second because the first is 1, the second is now 1. \n",
    "\n",
    "4. The main point is that because the second qubit depends on the superposition of the first, this means the two qubits are entangled. If this doesn't immediately make sense, neither. But let's proceed forth in ignorance for now. Some understanding just takes time. \n",
    "\n"
   ]
  },
  {
   "cell_type": "markdown",
   "id": "0f98b06c",
   "metadata": {},
   "source": [
    "## Step 1. Crafting Quantum Instructions\n",
    "\n",
    "Quantum Circuits are the human, visual interface that we craft a set of intructions that a Quantum Computer can action. We will be using the Qiskit SDK here. I'll try to explain the code as we go along"
   ]
  },
  {
   "cell_type": "code",
   "execution_count": 1,
   "id": "bdf5e606",
   "metadata": {},
   "outputs": [
    {
     "data": {
      "image/png": "[encoded data removed]",
      "text/plain": [
       "<Figure size 287.294x200.667 with 1 Axes>"
      ]
     },
     "execution_count": 1,
     "metadata": {},
     "output_type": "execute_result"
    }
   ],
   "source": [
    "from qiskit import *\n",
    "\n",
    "\n",
    "# Create a Quantum Circuit with 2 qubits using qiskit\n",
    "qc = QuantumCircuit(2)\n",
    "\n",
    "# Apply Hadamard gate to the first qubit\n",
    "qc.h(0) \n",
    "\n",
    "# Apply CNOT gate with control qubit 0 and target qubit 1\n",
    "qc.cx(0, 1)\n",
    "\n",
    "\n",
    "qc.draw(output=\"mpl\")\n"
   ]
  },
  {
   "cell_type": "markdown",
   "id": "d702ba20",
   "metadata": {},
   "source": [
    "## Step 2. Setting up the output\n",
    "\n",
    "In the world of Qiskit, you can return data in two fashions, a probability distribution across a set of qubits, or the expectation value of an observable. \n",
    "\n",
    "### Probability Distribution\n",
    "Shows frequency of each state e.g. frquency of measuring 00, 01, 10, 11\n",
    "\n",
    "### Expectation Values\n",
    "\"Gives yuo quantum mechanical averages\"...yeah I can't think of a good way to explain this, so maybe I'll try to show you.\n",
    "\n",
    "As, in this example, we measure expectation values.\n",
    "\n",
    "To do this, we need to create 6 two-qubit Pauli Operators: IZ, IX, ZI, XI, ZZ, XX. \n",
    "\n",
    "### What are these you ask?\n",
    "\n",
    "Well before we start with the two, we should probably start with the single qubit pauli matrices\n",
    "\n",
    "The Four Pauli Matrices\n",
    "\n",
    "#### I (Identity Matrix)\n",
    "I = (1  0)\n",
    "    (0  1)\n",
    "\n",
    "Effect: Does nothing - leaves the qubit unchanged\n",
    "Physical meaning: No operation applied\n",
    "On |0⟩: I|0⟩ = |0⟩\n",
    "On |1⟩: I|1⟩ = |1⟩\n",
    "\n",
    "#### X (Pauli-X / NOT Gate)\n",
    "X = (0  1)\n",
    "    (1  0)\n",
    "Effect: Flips the qubit state (bit flip)\n",
    "Physical meaning: Rotation around X-axis of Bloch sphere\n",
    "On |0⟩: X|0⟩ = |1⟩\n",
    "On |1⟩: X|1⟩ = |0⟩\n",
    "\n",
    "#### Y (Pauli-Y)\n",
    "\n",
    "Y = (0  -i)\n",
    "    (i   0)\n",
    "\n",
    "Effect: Combines bit flip and phase flip\n",
    "Physical meaning: Rotation around Y-axis of Bloch sphere\n",
    "On |0⟩: Y|0⟩ = i|1⟩\n",
    "On |1⟩: Y|1⟩ = -i|0⟩\n",
    "\n",
    "#### Z (Pauli-Z / Phase Flip)\n",
    "Effect: Flips the phase (leaves |0⟩ unchanged, adds minus sign to |1⟩)\n",
    "Physical meaning: Rotation around Z-axis of Bloch sphere\n",
    "On |0⟩: Z|0⟩ = |0⟩\n",
    "On |1⟩: Z|1⟩ = -|1⟩\n",
    "\n"
   ]
  },
  {
   "cell_type": "markdown",
   "id": "ce1b2741",
   "metadata": {},
   "source": [
    "### TLDR\n",
    "\n",
    "So long story short, the way I like to think of it (perhaps wrongly) is the these operators represent the change to the qubits value that we might expect. The expectation value of an operator is the average outcome that you would obtain \n",
    "\n",
    "So I represents no change before and after the quantum circuit, Y is a flip in the Y axis, and Z is a rotation in the Z axis. "
   ]
  },
  {
   "cell_type": "markdown",
   "id": "e9a50b02",
   "metadata": {},
   "source": [
    "## Back to two-bit Pauli Operators"
   ]
  },
  {
   "cell_type": "code",
   "execution_count": 2,
   "id": "9d769a89",
   "metadata": {},
   "outputs": [
    {
     "name": "stdout",
     "output_type": "stream",
     "text": [
      "SparsePauliOp(['IZ'],\n",
      "              coeffs=[1.+0.j]): Matrix shape (4, 4)\n",
      "Matrix:\n",
      "[[ 1.+0.j  0.+0.j  0.+0.j  0.+0.j]\n",
      " [ 0.+0.j -1.+0.j  0.+0.j  0.+0.j]\n",
      " [ 0.+0.j  0.+0.j  1.+0.j  0.+0.j]\n",
      " [ 0.+0.j  0.+0.j  0.+0.j -1.+0.j]]\n",
      "\n",
      "SparsePauliOp(['ZI'],\n",
      "              coeffs=[1.+0.j]): Matrix shape (4, 4)\n",
      "Matrix:\n",
      "[[ 1.+0.j  0.+0.j  0.+0.j  0.+0.j]\n",
      " [ 0.+0.j  1.+0.j  0.+0.j  0.+0.j]\n",
      " [ 0.+0.j  0.+0.j -1.+0.j  0.+0.j]\n",
      " [ 0.+0.j  0.+0.j  0.+0.j -1.+0.j]]\n",
      "\n",
      "SparsePauliOp(['ZZ'],\n",
      "              coeffs=[1.+0.j]): Matrix shape (4, 4)\n",
      "Matrix:\n",
      "[[ 1.+0.j  0.+0.j  0.+0.j  0.+0.j]\n",
      " [ 0.+0.j -1.+0.j  0.+0.j  0.+0.j]\n",
      " [ 0.+0.j  0.+0.j -1.+0.j  0.+0.j]\n",
      " [ 0.+0.j  0.+0.j  0.+0.j  1.+0.j]]\n",
      "\n",
      "SparsePauliOp(['XX'],\n",
      "              coeffs=[1.+0.j]): Matrix shape (4, 4)\n",
      "Matrix:\n",
      "[[0.+0.j 0.+0.j 0.+0.j 1.+0.j]\n",
      " [0.+0.j 0.+0.j 1.+0.j 0.+0.j]\n",
      " [0.+0.j 1.+0.j 0.+0.j 0.+0.j]\n",
      " [1.+0.j 0.+0.j 0.+0.j 0.+0.j]]\n",
      "\n",
      "SparsePauliOp(['YY'],\n",
      "              coeffs=[1.+0.j]): Matrix shape (4, 4)\n",
      "Matrix:\n",
      "[[ 0.+0.j  0.+0.j  0.+0.j -1.+0.j]\n",
      " [ 0.+0.j  0.+0.j  1.+0.j  0.+0.j]\n",
      " [ 0.+0.j  1.+0.j  0.+0.j  0.+0.j]\n",
      " [-1.+0.j  0.+0.j  0.+0.j  0.+0.j]]\n",
      "\n"
     ]
    }
   ],
   "source": [
    "# We use SparsePauliOp from the quantum_info to define observables\n",
    "from qiskit.quantum_info import SparsePauliOp\n",
    "\n",
    "\n",
    "observables = [\n",
    "    SparsePauliOp(\"IZ\"),  # Measures qubit 1 in Z basis\n",
    "    SparsePauliOp(\"ZI\"),  # Measures qubit 0 in Z basis  \n",
    "    SparsePauliOp(\"ZZ\"),  # Measures correlation between both qubits in Z basis\n",
    "    SparsePauliOp(\"XX\"),  # Measures correlation in X basis\n",
    "    SparsePauliOp(\"YY\"),  # Measures correlation in Y basis\n",
    "]\n",
    "\n",
    "# Let's see what these mean mathematically\n",
    "for obs in observables:\n",
    "    print(f\"{obs}: Matrix shape {obs.to_matrix().shape}\")\n",
    "    print(f\"Matrix:\\n{obs.to_matrix()}\\n\")\n"
   ]
  },
  {
   "cell_type": "markdown",
   "id": "5684cad5",
   "metadata": {},
   "source": [
    "\n",
    "### 🧮 Basis States and Vectors\n",
    "\n",
    "| State | Vector |\n",
    "|-------|--------|\n",
    "| |00⟩ | [1, 0, 0, 0]ᵀ |\n",
    "| |01⟩ | [0, 1, 0, 0]ᵀ |\n",
    "| |10⟩ | [0, 0, 1, 0]ᵀ |\n",
    "| |11⟩ | [0, 0, 0, 1]ᵀ |\n",
    "\n",
    "### 🧪 Example: Apply Matrix M SparsePauliOp(['IZ'], to |01⟩\n",
    "\n",
    "Let's multiply matrix SparsePauliOp(['IZ'], by the vector for |01⟩:\n",
    "\n",
    "$$\n",
    "M =\n",
    "\\begin{bmatrix}\n",
    "1 & 0 & 0 & 0 \\\\\n",
    "0 & -1 & 0 & 0 \\\\\n",
    "0 & 0 & 1 & 0 \\\\\n",
    "0 & 0 & 0 & -1\n",
    "\\end{bmatrix}\n",
    ",\\quad\n",
    "|01⟩ =\n",
    "\\begin{bmatrix}\n",
    "0 \\\\\n",
    "1 \\\\\n",
    "0 \\\\\n",
    "0\n",
    "\\end{bmatrix}\n",
    "$$\n",
    "\n",
    "$$\n",
    "M \\cdot |01⟩ =\n",
    "\\begin{bmatrix}\n",
    "1 & 0 & 0 & 0 \\\\\n",
    "0 & -1 & 0 & 0 \\\\\n",
    "0 & 0 & 1 & 0 \\\\\n",
    "0 & 0 & 0 & -1\n",
    "\\end{bmatrix}\n",
    "\\cdot\n",
    "\\begin{bmatrix}\n",
    "0 \\\\\n",
    "1 \\\\\n",
    "0 \\\\\n",
    "0\n",
    "\\end{bmatrix}\n",
    "=\n",
    "\\begin{bmatrix}\n",
    "0 \\\\\n",
    "-1 \\\\\n",
    "0 \\\\\n",
    "0\n",
    "\\end{bmatrix}\n",
    "= -1 \\cdot |01⟩\n",
    "$$\n",
    "\n",
    "✅ **Result**: The state remains |01⟩, but acquires a global phase of **−1**."
   ]
  },
  {
   "cell_type": "markdown",
   "id": "9319de64",
   "metadata": {},
   "source": [
    "### Moving on\n",
    "\n",
    "So we have set up the observables. But there are a couple of things that we need to do:\n",
    "\n",
    "1. We need to confirm our intrsuctions to the backend devices Instruction Set Architecture\n",
    "\n",
    "I'm going to be doing this on a live machine. "
   ]
  },
  {
   "cell_type": "markdown",
   "id": "55c70ef1",
   "metadata": {},
   "source": [
    "#### What the hell is the Instruction Set Architecture (ISA)?\n",
    "\n"
   ]
  },
  {
   "cell_type": "code",
   "execution_count": 3,
   "id": "399d678d",
   "metadata": {},
   "outputs": [
    {
     "name": "stdout",
     "output_type": "stream",
     "text": [
      "Successfully connected to IBM Quantum!\n",
      "<bound method QiskitRuntimeService.backends of <QiskitRuntimeService>>\n"
     ]
    }
   ],
   "source": [
    "from qiskit_ibm_runtime import QiskitRuntimeService\n",
    "import os\n",
    "from dotenv import load_dotenv\n",
    "\n",
    "# Load environment variables from .env file\n",
    "load_dotenv()\n",
    "\n",
    "# Get credentials from environment variables\n",
    "token = os.getenv('IBM_QUANTUM_TOKEN')\n",
    "instance = os.getenv('IBM_QUANTUM_INSTANCE')\n",
    "\n",
    "if token is None:\n",
    "    raise ValueError(\"Please set IBM_QUANTUM_TOKEN in your .env file\")\n",
    "\n",
    "# Save and create the service\n",
    "QiskitRuntimeService.save_account(\n",
    "    token=token,\n",
    "    instance=instance,\n",
    "    overwrite=True\n",
    ")\n",
    "\n",
    "service = QiskitRuntimeService()\n",
    "print(\"Successfully connected to IBM Quantum!\")\n",
    "print(service.backends)"
   ]
  },
  {
   "cell_type": "code",
   "execution_count": 4,
   "id": "9ca85601",
   "metadata": {},
   "outputs": [
    {
     "name": "stdout",
     "output_type": "stream",
     "text": [
      "<IBMBackend('ibm_brisbane')>\n"
     ]
    }
   ],
   "source": [
    "from qiskit.transpiler.preset_passmanagers import generate_preset_pass_manager\n",
    "\n",
    "# Find the least busy backend that is not a simulator and is operational\n",
    "backend = service.least_busy(simulator=False, operational=True)\n",
    "\n",
    "pm = generate_preset_pass_manager(backend=backend, optimization_level=1)\n",
    "#1 = equalling light optimisation\n",
    "\n",
    "transpiled_qc = pm.run(qc)\n",
    "\n",
    "print(backend)"
   ]
  },
  {
   "cell_type": "code",
   "execution_count": 5,
   "id": "0eab1c15",
   "metadata": {},
   "outputs": [
    {
     "name": "stdout",
     "output_type": "stream",
     "text": [
      "ibm_brisbane\n",
      "127\n",
      "ibm_torino\n",
      "133\n",
      "Backend Status: internal\n",
      "Pending Jobs: 1186\n"
     ]
    }
   ],
   "source": [
    "for backend in service.backends():\n",
    "    print(backend.name)\n",
    "    print(backend.num_qubits)\n",
    "\n",
    "\n",
    "status = backend.status()\n",
    "print(f\"Backend Status: {status.status_msg}\")\n",
    "print(f\"Pending Jobs: {status.pending_jobs}\")"
   ]
  },
  {
   "cell_type": "markdown",
   "id": "7fc1272b",
   "metadata": {},
   "source": [
    "### What is this Pass Maanger?\n",
    "\n",
    "So this Pass Manager is essentially the pipeline of transforms that are required to convert your abstract (idealised) quantum circuit into something that can actually be run by the limited quantum hardware.\n",
    "\n",
    "Due to hardware limitations such as:\n",
    "- Limited connectivity: Not all qubits can directly interact\n",
    "- Native gate set: Hardware only supports specific gates (not necessarily H and CNOT)\n",
    "- Noise and errors: Some sequences are more robust than others\n",
    "\n",
    "We are required to:\n",
    "1.  adapt our circuit to the hardware's constraints\n",
    "2. Optimise the circuit for better performance\n",
    "3. Map our virtual qubits to the physical qubits on the device"
   ]
  },
  {
   "cell_type": "code",
   "execution_count": 6,
   "id": "b22a831d",
   "metadata": {},
   "outputs": [
    {
     "data": {
      "image/png": "[encoded data removed]",
      "text/plain": [
       "<Figure size 757.83x200.667 with 1 Axes>"
      ]
     },
     "execution_count": 6,
     "metadata": {},
     "output_type": "execute_result"
    }
   ],
   "source": [
    "\n",
    "transpiled_qc.draw(output=\"mpl\", idle_wires=False)\n"
   ]
  },
  {
   "cell_type": "code",
   "execution_count": 7,
   "id": "5d926bd9",
   "metadata": {},
   "outputs": [
    {
     "data": {
      "image/png": "[encoded data removed]",
      "text/plain": [
       "<Figure size 287.294x200.667 with 1 Axes>"
      ]
     },
     "execution_count": 7,
     "metadata": {},
     "output_type": "execute_result"
    }
   ],
   "source": [
    "qc.draw(output=\"mpl\")"
   ]
  },
  {
   "cell_type": "markdown",
   "id": "6e6fbeb2",
   "metadata": {},
   "source": []
  },
  {
   "cell_type": "markdown",
   "id": "9507175f",
   "metadata": {},
   "source": [
    "### Now if we compare all the gates"
   ]
  },
  {
   "cell_type": "code",
   "execution_count": 8,
   "id": "be7803fd",
   "metadata": {},
   "outputs": [
    {
     "name": "stdout",
     "output_type": "stream",
     "text": [
      "\n",
      "Original gates: OrderedDict({'h': 1, 'cx': 1})\n",
      "Transpiled gates: OrderedDict({'rz': 7, 'sx': 4, 'ecr': 1})\n"
     ]
    }
   ],
   "source": [
    "# Check the gate counts\n",
    "print(f\"\\nOriginal gates: {qc.count_ops()}\")\n",
    "print(f\"Transpiled gates: {transpiled_qc.count_ops()}\")"
   ]
  },
  {
   "cell_type": "markdown",
   "id": "e2a7959c",
   "metadata": {},
   "source": [
    "#### New Gates now include\n",
    "\n",
    "##### rz - Z-Rotation Gate\n",
    "What it does: Rotates qubit around the Z-axis of the Bloch sphere.\n",
    "\n",
    "Why is it used:\n",
    "\n",
    "\n",
    "##### sx - Square-root-of-X Gate\n",
    "What it does: Performs a π/2 rotation around the X-axis — halfway between identity and a full bit-flip.\n",
    "\n",
    "Why is it used: Building block for creating the Hadamard gate. H ≈ RZ(π) · SX · RZ(π)\n",
    "\n",
    "##### cz - Controlled-Z Gate (1 instance)\n",
    "What it does: Flips the sign of |11⟩ → −|11⟩.\n",
    "\n",
    "Why is it used:  Introduces entanglement when combined with Hadamard. H ⋅ CZ ⋅ H = CNOT\n",
    "\n",
    "\n",
    "\n",
    "This is why transpilation is crucial - it bridges the gap between what's easy for humans to understand and what the quantum hardware can actually execute!"
   ]
  },
  {
   "cell_type": "markdown",
   "id": "5b7863bc",
   "metadata": {},
   "source": [
    "### Executing the circuit and measuring observables\n",
    "\n",
    "To do this we need primitives! We need to run the circuit multiple times due to random results. Therefore, probability reveals the true answer. In QiSkit there are two primitives: <ZZ> = 0.85\n",
    "\n",
    "1. The Estimator - gives you the expectation value of observables => A single number representing the quantum mechanical averages e.g. \n",
    "\n",
    "2. The Sampler - used to return a probability distributions\n",
    "\n",
    "Since we set up the observables earlier, let's start with The Estimator!\n",
    "\n"
   ]
  },
  {
   "cell_type": "code",
   "execution_count": 9,
   "id": "db3289d3",
   "metadata": {},
   "outputs": [],
   "source": [
    "from qiskit_ibm_runtime import Estimator\n",
    "# We begin by setting up the estimator primitive\n",
    "\n",
    "estimator = Estimator(mode=backend)\n",
    "estimator.options.resilience_level = 1\n",
    "estimator.options.default_shots = 5000\n",
    "\n",
    "# mapping your observables to match the physical qubits that your transpiled circuit is using.\n",
    "mapped_observables = [observable.apply_layout(transpiled_qc.layout) for observable in observables]\n"
   ]
  },
  {
   "cell_type": "markdown",
   "id": "cab38e76",
   "metadata": {},
   "source": [
    "#### A quick note on the observable"
   ]
  },
  {
   "cell_type": "code",
   "execution_count": 10,
   "id": "cbb0828f",
   "metadata": {},
   "outputs": [
    {
     "ename": "TypeError",
     "evalue": "'<' not supported between instances of 'qiskit.circuit.Qubit' and 'int'",
     "output_type": "error",
     "traceback": [
      "\u001b[31m---------------------------------------------------------------------------\u001b[39m",
      "\u001b[31mTypeError\u001b[39m                                 Traceback (most recent call last)",
      "\u001b[36mCell\u001b[39m\u001b[36m \u001b[39m\u001b[32mIn[10]\u001b[39m\u001b[32m, line 5\u001b[39m\n\u001b[32m      2\u001b[39m original_obs = SparsePauliOp(\u001b[33m\"\u001b[39m\u001b[33mZI\u001b[39m\u001b[33m\"\u001b[39m)  \u001b[38;5;66;03m# [Z on qubit 0, I on qubit 1]\u001b[39;00m\n\u001b[32m      3\u001b[39m layout = transpiled_qc.layout.initial_layout  \u001b[38;5;66;03m# {0: 5, 1: 7} (example)\u001b[39;00m\n\u001b[32m----> \u001b[39m\u001b[32m5\u001b[39m mapped_obs = \u001b[43moriginal_obs\u001b[49m\u001b[43m.\u001b[49m\u001b[43mapply_layout\u001b[49m\u001b[43m(\u001b[49m\u001b[43mlayout\u001b[49m\u001b[43m)\u001b[49m\n\u001b[32m      6\u001b[39m \u001b[38;5;66;03m# Result: SparsePauliOp with Z on physical qubit 5, I on physical qubit 7\u001b[39;00m\n",
      "\u001b[36mFile \u001b[39m\u001b[32m~/Library/CloudStorage/OneDrive-Accenture/Development/QuantumPlayground/.venv/lib/python3.13/site-packages/qiskit/quantum_info/operators/symplectic/sparse_pauli_op.py:1227\u001b[39m, in \u001b[36mSparsePauliOp.apply_layout\u001b[39m\u001b[34m(self, layout, num_qubits)\u001b[39m\n\u001b[32m   1225\u001b[39m     layout = \u001b[38;5;28mlist\u001b[39m(\u001b[38;5;28mrange\u001b[39m(\u001b[38;5;28mself\u001b[39m.num_qubits))\n\u001b[32m   1226\u001b[39m \u001b[38;5;28;01melse\u001b[39;00m:\n\u001b[32m-> \u001b[39m\u001b[32m1227\u001b[39m     \u001b[38;5;28;01mif\u001b[39;00m \u001b[38;5;28;43many\u001b[39;49m\u001b[43m(\u001b[49m\u001b[43mx\u001b[49m\u001b[43m \u001b[49m\u001b[43m<\u001b[49m\u001b[43m \u001b[49m\u001b[32;43m0\u001b[39;49m\u001b[43m \u001b[49m\u001b[38;5;129;43;01mor\u001b[39;49;00m\u001b[43m \u001b[49m\u001b[43mx\u001b[49m\u001b[43m \u001b[49m\u001b[43m>\u001b[49m\u001b[43m=\u001b[49m\u001b[43m \u001b[49m\u001b[43mn_qubits\u001b[49m\u001b[43m \u001b[49m\u001b[38;5;28;43;01mfor\u001b[39;49;00m\u001b[43m \u001b[49m\u001b[43mx\u001b[49m\u001b[43m \u001b[49m\u001b[38;5;129;43;01min\u001b[39;49;00m\u001b[43m \u001b[49m\u001b[43mlayout\u001b[49m\u001b[43m)\u001b[49m:\n\u001b[32m   1228\u001b[39m         \u001b[38;5;28;01mraise\u001b[39;00m QiskitError(\u001b[33m\"\u001b[39m\u001b[33mProvided layout contains indices outside the number of qubits.\u001b[39m\u001b[33m\"\u001b[39m)\n\u001b[32m   1229\u001b[39m     \u001b[38;5;28;01mif\u001b[39;00m \u001b[38;5;28mlen\u001b[39m(\u001b[38;5;28mset\u001b[39m(layout)) != \u001b[38;5;28mlen\u001b[39m(layout):\n",
      "\u001b[36mFile \u001b[39m\u001b[32m~/Library/CloudStorage/OneDrive-Accenture/Development/QuantumPlayground/.venv/lib/python3.13/site-packages/qiskit/quantum_info/operators/symplectic/sparse_pauli_op.py:1227\u001b[39m, in \u001b[36m<genexpr>\u001b[39m\u001b[34m(.0)\u001b[39m\n\u001b[32m   1225\u001b[39m     layout = \u001b[38;5;28mlist\u001b[39m(\u001b[38;5;28mrange\u001b[39m(\u001b[38;5;28mself\u001b[39m.num_qubits))\n\u001b[32m   1226\u001b[39m \u001b[38;5;28;01melse\u001b[39;00m:\n\u001b[32m-> \u001b[39m\u001b[32m1227\u001b[39m     \u001b[38;5;28;01mif\u001b[39;00m \u001b[38;5;28many\u001b[39m(\u001b[43mx\u001b[49m\u001b[43m \u001b[49m\u001b[43m<\u001b[49m\u001b[43m \u001b[49m\u001b[32;43m0\u001b[39;49m \u001b[38;5;129;01mor\u001b[39;00m x >= n_qubits \u001b[38;5;28;01mfor\u001b[39;00m x \u001b[38;5;129;01min\u001b[39;00m layout):\n\u001b[32m   1228\u001b[39m         \u001b[38;5;28;01mraise\u001b[39;00m QiskitError(\u001b[33m\"\u001b[39m\u001b[33mProvided layout contains indices outside the number of qubits.\u001b[39m\u001b[33m\"\u001b[39m)\n\u001b[32m   1229\u001b[39m     \u001b[38;5;28;01mif\u001b[39;00m \u001b[38;5;28mlen\u001b[39m(\u001b[38;5;28mset\u001b[39m(layout)) != \u001b[38;5;28mlen\u001b[39m(layout):\n",
      "\u001b[31mTypeError\u001b[39m: '<' not supported between instances of 'qiskit.circuit.Qubit' and 'int'"
     ]
    }
   ],
   "source": [
    "# Example of what happens internally:\n",
    "original_obs = SparsePauliOp(\"ZI\")  # [Z on qubit 0, I on qubit 1]\n",
    "layout = transpiled_qc.layout.initial_layout  # {0: 5, 1: 7} (example)\n",
    "\n",
    "mapped_obs = original_obs.apply_layout(layout)\n",
    "# Result: SparsePauliOp with Z on physical qubit 5, I on physical qubit 7"
   ]
  },
  {
   "cell_type": "markdown",
   "id": "0831433b",
   "metadata": {},
   "source": [
    "### Running the job\n"
   ]
  },
  {
   "cell_type": "code",
   "execution_count": 16,
   "id": "659af739",
   "metadata": {},
   "outputs": [
    {
     "name": "stdout",
     "output_type": "stream",
     "text": [
      "Save this Job ID: <bound method BasePrimitiveJob.job_id of <RuntimeJobV2('d3ca23elahfs73cutn1g', 'estimator')>>\n"
     ]
    },
    {
     "ename": "KeyboardInterrupt",
     "evalue": "",
     "output_type": "error",
     "traceback": [
      "\u001b[31m---------------------------------------------------------------------------\u001b[39m",
      "\u001b[31mKeyboardInterrupt\u001b[39m                         Traceback (most recent call last)",
      "\u001b[36mCell\u001b[39m\u001b[36m \u001b[39m\u001b[32mIn[16]\u001b[39m\u001b[32m, line 5\u001b[39m\n\u001b[32m      2\u001b[39m job_id = job.job_id\n\u001b[32m      3\u001b[39m \u001b[38;5;28mprint\u001b[39m(\u001b[33mf\u001b[39m\u001b[33m\"\u001b[39m\u001b[33mSave this Job ID: \u001b[39m\u001b[38;5;132;01m{\u001b[39;00mjob_id\u001b[38;5;132;01m}\u001b[39;00m\u001b[33m\"\u001b[39m)\n\u001b[32m----> \u001b[39m\u001b[32m5\u001b[39m result = \u001b[43mjob\u001b[49m\u001b[43m.\u001b[49m\u001b[43mresult\u001b[49m\u001b[43m(\u001b[49m\u001b[43m)\u001b[49m\n",
      "\u001b[36mFile \u001b[39m\u001b[32m~/LocalProjects/QuantumPlayground/quantum_env/lib/python3.11/site-packages/qiskit_ibm_runtime/runtime_job_v2.py:133\u001b[39m, in \u001b[36mRuntimeJobV2.result\u001b[39m\u001b[34m(self, timeout, decoder)\u001b[39m\n\u001b[32m    118\u001b[39m \u001b[38;5;250m\u001b[39m\u001b[33;03m\"\"\"Return the results of the job.\u001b[39;00m\n\u001b[32m    119\u001b[39m \n\u001b[32m    120\u001b[39m \u001b[33;03mArgs:\u001b[39;00m\n\u001b[32m   (...)\u001b[39m\u001b[32m    130\u001b[39m \u001b[33;03m    RuntimeInvalidStateError: If the job was cancelled, and attempting to retrieve result.\u001b[39;00m\n\u001b[32m    131\u001b[39m \u001b[33;03m\"\"\"\u001b[39;00m\n\u001b[32m    132\u001b[39m _decoder = decoder \u001b[38;5;129;01mor\u001b[39;00m \u001b[38;5;28mself\u001b[39m._final_result_decoder\n\u001b[32m--> \u001b[39m\u001b[32m133\u001b[39m \u001b[38;5;28;43mself\u001b[39;49m\u001b[43m.\u001b[49m\u001b[43mwait_for_final_state\u001b[49m\u001b[43m(\u001b[49m\u001b[43mtimeout\u001b[49m\u001b[43m=\u001b[49m\u001b[43mtimeout\u001b[49m\u001b[43m)\u001b[49m\n\u001b[32m    134\u001b[39m \u001b[38;5;28;01mif\u001b[39;00m \u001b[38;5;28mself\u001b[39m._status == \u001b[33m\"\u001b[39m\u001b[33mERROR\u001b[39m\u001b[33m\"\u001b[39m:\n\u001b[32m    135\u001b[39m     error_message = \u001b[38;5;28mself\u001b[39m._reason \u001b[38;5;28;01mif\u001b[39;00m \u001b[38;5;28mself\u001b[39m._reason \u001b[38;5;28;01melse\u001b[39;00m \u001b[38;5;28mself\u001b[39m._error_message\n",
      "\u001b[36mFile \u001b[39m\u001b[32m~/LocalProjects/QuantumPlayground/quantum_env/lib/python3.11/site-packages/qiskit_ibm_runtime/runtime_job_v2.py:251\u001b[39m, in \u001b[36mRuntimeJobV2.wait_for_final_state\u001b[39m\u001b[34m(self, timeout)\u001b[39m\n\u001b[32m    247\u001b[39m         \u001b[38;5;28;01mif\u001b[39;00m timeout \u001b[38;5;129;01mis\u001b[39;00m \u001b[38;5;129;01mnot\u001b[39;00m \u001b[38;5;28;01mNone\u001b[39;00m \u001b[38;5;129;01mand\u001b[39;00m elapsed_time >= timeout:\n\u001b[32m    248\u001b[39m             \u001b[38;5;28;01mraise\u001b[39;00m RuntimeJobTimeoutError(\n\u001b[32m    249\u001b[39m                 \u001b[33mf\u001b[39m\u001b[33m\"\u001b[39m\u001b[33mTimed out waiting for job to complete after \u001b[39m\u001b[38;5;132;01m{\u001b[39;00mtimeout\u001b[38;5;132;01m}\u001b[39;00m\u001b[33m secs.\u001b[39m\u001b[33m\"\u001b[39m\n\u001b[32m    250\u001b[39m             )\n\u001b[32m--> \u001b[39m\u001b[32m251\u001b[39m         \u001b[43mtime\u001b[49m\u001b[43m.\u001b[49m\u001b[43msleep\u001b[49m\u001b[43m(\u001b[49m\u001b[32;43m0.1\u001b[39;49m\u001b[43m)\u001b[49m\n\u001b[32m    252\u001b[39m         status = \u001b[38;5;28mself\u001b[39m.status()\n\u001b[32m    253\u001b[39m \u001b[38;5;28;01mexcept\u001b[39;00m futures.TimeoutError:\n",
      "\u001b[31mKeyboardInterrupt\u001b[39m: "
     ]
    }
   ],
   "source": [
    "job = estimator.run([(transpiled_qc, mapped_observables)])\n",
    "job_id = job.job_id\n",
    "print(f\"Save this Job ID: {job_id}\")\n",
    "\n",
    "result = job.result()"
   ]
  },
  {
   "cell_type": "code",
   "execution_count": 18,
   "id": "e64d2059",
   "metadata": {},
   "outputs": [
    {
     "name": "stdout",
     "output_type": "stream",
     "text": [
      "PrimitiveResult([PubResult(data=DataBin(evs=np.ndarray(<shape=(5,), dtype=float64>), stds=np.ndarray(<shape=(5,), dtype=float64>), ensemble_standard_error=np.ndarray(<shape=(5,), dtype=float64>), shape=(5,)), metadata={'shots': 5024, 'target_precision': 0.01414213562373095, 'circuit_metadata': {}, 'resilience': {}, 'num_randomizations': 32})], metadata={'dynamical_decoupling': {'enable': False, 'sequence_type': 'XX', 'extra_slack_distribution': 'middle', 'scheduling_method': 'alap'}, 'twirling': {'enable_gates': False, 'enable_measure': True, 'num_randomizations': 'auto', 'shots_per_randomization': 'auto', 'interleave_randomizations': True, 'strategy': 'active-accum'}, 'resilience': {'measure_mitigation': True, 'zne_mitigation': False, 'pec_mitigation': False}, 'version': 2})\n",
      "=== JOB RESULT BREAKDOWN ===\n",
      "Number of PUB results: 1\n",
      "\n",
      "--- PUB Result 0 ---\n",
      "Data type: <class 'qiskit.primitives.containers.data_bin.DataBin'>\n",
      "\n",
      "Expectation Values: [ 0.12843737  0.15534583  1.06980035  1.04910216 -0.95211639]\n",
      "  Shape: (5,)\n",
      "  Values: [np.float64(0.12843737418575604), np.float64(0.15534583271394425), np.float64(1.0698003468562614), np.float64(1.0491021643576606), np.float64(-0.9521163949356443)]\n",
      "\n",
      "Standard Deviations: [0.01537426 0.01568402 0.0144554  0.01634362 0.01367015]\n",
      "  Shape: (5,)\n",
      "  Values: [np.float64(0.015374262612930673), np.float64(0.015684018876385063), np.float64(0.014455403813108773), np.float64(0.01634361880872233), np.float64(0.013670145477470799)]\n",
      "\n",
      "Ensemble Standard Error: [0.01865427 0.01567382 0.01592499 0.01614682 0.01709398]\n",
      "  Values: [np.float64(0.018654265325206185), np.float64(0.015673818985987686), np.float64(0.01592499077497887), np.float64(0.016146816265287616), np.float64(0.01709397522998561)]\n",
      "\n",
      "📊 PUB Metadata:\n",
      "  shots: 5024\n",
      "  target_precision: 0.01414213562373095\n",
      "  circuit_metadata:\n",
      "  resilience:\n",
      "  num_randomizations: 32\n",
      "\n",
      "🔧 Overall Job Metadata:\n",
      "  dynamical_decoupling:\n",
      "    enable: False\n",
      "    sequence_type: XX\n",
      "    extra_slack_distribution: middle\n",
      "    scheduling_method: alap\n",
      "  twirling:\n",
      "    enable_gates: False\n",
      "    enable_measure: True\n",
      "    num_randomizations: auto\n",
      "    shots_per_randomization: auto\n",
      "    interleave_randomizations: True\n",
      "    strategy: active-accum\n",
      "  resilience:\n",
      "    measure_mitigation: True\n",
      "    zne_mitigation: False\n",
      "    pec_mitigation: False\n",
      "  version: 2\n"
     ]
    }
   ],
   "source": [
    "job = service.job(\"d3ca23elahfs73cutn1g\")  # Retrieve by ID\n",
    "if job.done():\n",
    "    result = job.result()\n",
    "\n",
    "    print(result)\n",
    "    \n",
    "    # Format the result in a hierarchical way\n",
    "    print(\"=== JOB RESULT BREAKDOWN ===\")\n",
    "    print(f\"Number of PUB results: {len(result)}\")\n",
    "    \n",
    "    for i, pub_result in enumerate(result):\n",
    "        print(f\"\\n--- PUB Result {i} ---\")\n",
    "        print(f\"Data type: {type(pub_result.data)}\")\n",
    "        \n",
    "        # Print actual data values\n",
    "        if hasattr(pub_result.data, 'evs'):\n",
    "            print(f\"\\nExpectation Values: {pub_result.data.evs}\")\n",
    "            print(f\"  Shape: {pub_result.data.evs.shape}\")\n",
    "            print(f\"  Values: {list(pub_result.data.evs)}\")\n",
    "            \n",
    "        if hasattr(pub_result.data, 'stds'):\n",
    "            print(f\"\\nStandard Deviations: {pub_result.data.stds}\")\n",
    "            print(f\"  Shape: {pub_result.data.stds.shape}\")\n",
    "            print(f\"  Values: {list(pub_result.data.stds)}\")\n",
    "            \n",
    "        if hasattr(pub_result.data, 'ensemble_standard_error'):\n",
    "            print(f\"\\nEnsemble Standard Error: {pub_result.data.ensemble_standard_error}\")\n",
    "            print(f\"  Values: {list(pub_result.data.ensemble_standard_error)}\")\n",
    "        \n",
    "        # Print metadata in a structured way\n",
    "        if hasattr(pub_result, 'metadata') and pub_result.metadata:\n",
    "            print(f\"\\n📊 PUB Metadata:\")\n",
    "            metadata = pub_result.metadata\n",
    "            \n",
    "            for key, value in metadata.items():\n",
    "                if isinstance(value, dict):\n",
    "                    print(f\"  {key}:\")\n",
    "                    for sub_key, sub_value in value.items():\n",
    "                        print(f\"    {sub_key}: {sub_value}\")\n",
    "                else:\n",
    "                    print(f\"  {key}: {value}\")\n",
    "    \n",
    "    # Print overall job metadata\n",
    "    print(f\"\\n🔧 Overall Job Metadata:\")\n",
    "    job_metadata = result.metadata\n",
    "    for key, value in job_metadata.items():\n",
    "        if isinstance(value, dict):\n",
    "            print(f\"  {key}:\")\n",
    "            for sub_key, sub_value in value.items():\n",
    "                if isinstance(sub_value, dict):\n",
    "                    print(f\"    {sub_key}:\")\n",
    "                    for sub_sub_key, sub_sub_value in sub_value.items():\n",
    "                        print(f\"      {sub_sub_key}: {sub_sub_value}\")\n",
    "                else:\n",
    "                    print(f\"    {sub_key}: {sub_value}\")\n",
    "        else:\n",
    "            print(f\"  {key}: {value}\")\n",
    "            \n",
    "else:\n",
    "    print(f\"Job still running. Status: {job.status()}\")\n",
    "    if hasattr(job, 'queue_info'):\n",
    "        print(f\"Queue position: {job.queue_info().position}\")"
   ]
  },
  {
   "cell_type": "markdown",
   "id": "86d9a1b5",
   "metadata": {},
   "source": [
    "### Diving into the results\n",
    "\n",
    "Looking at the returned object..."
   ]
  },
  {
   "cell_type": "markdown",
   "id": "9f153a76",
   "metadata": {},
   "source": [
    "### Plotting the result"
   ]
  },
  {
   "cell_type": "code",
   "execution_count": null,
   "id": "905c8f27",
   "metadata": {},
   "outputs": [],
   "source": [
    "from matplotlib import pyplot as plt\n",
    "\n",
    "pub_result = job.result()[0]\n",
    "\n",
    "values = pub_result.data.evs\n",
    "\n",
    "errors = pub_result.data.stds\n",
    "\n",
    "observables_labels = [\"IZ\", \"IX\", \"ZI\", \"XI\", \"ZZ\", \"XX\"]\n",
    "\n",
    "# plotting graph\n",
    "plt.plot(observables_labels, values, \"-o\")\n",
    "plt.xlabel(\"Observables\")\n",
    "plt.ylabel(\"Values\")\n",
    "plt.show()\n",
    "\n"
   ]
  },
  {
   "cell_type": "markdown",
   "id": "e078d0ae",
   "metadata": {},
   "source": [
    "### The Sampler\n",
    "\n",
    "This requires a few considerations:\n"
   ]
  },
  {
   "cell_type": "code",
   "execution_count": null,
   "id": "2b8529d1",
   "metadata": {},
   "outputs": [],
   "source": [
    "from qiskit_ibm_runtime import Sampler\n",
    "from qiskit import ClassicalRegister\n",
    "import matplotlib.pyplot as plt\n",
    "\n",
    "# Create a copy of the transpiled circuit for measurement\n",
    "measured_qc = transpiled_qc.copy()\n",
    "\n",
    "# Add classical register to store measurement results\n",
    "measured_qc.add_register(ClassicalRegister(2, 'c'))\n",
    "\n",
    "# Add measurements to all qubits\n",
    "measured_qc.measure_all()\n",
    "\n",
    "print(\"Circuit with measurements:\")\n",
    "print(measured_qc.draw())\n",
    "\n",
    "# Set up the sampler primitive\n",
    "sampler = Sampler(mode=backend)\n",
    "sampler.options.default_shots = 5000\n",
    "\n",
    "# Run the sampling job\n",
    "job = sampler.run([measured_qc])\n",
    "result = job.result()\n",
    "\n",
    "# Get the measurement counts\n",
    "pub_result = result[0]\n",
    "counts = pub_result.data.c.get_counts()\n",
    "\n",
    "print(f\"\\nMeasurement counts: {counts}\")\n",
    "\n",
    "# Calculate probabilities\n",
    "total_shots = sum(counts.values())\n",
    "probabilities = {state: count/total_shots for state, count in counts.items()}\n",
    "\n",
    "print(f\"Probabilities: {probabilities}\")\n",
    "\n",
    "# Plot the results\n",
    "states = list(counts.keys())\n",
    "count_values = list(counts.values())\n",
    "\n",
    "plt.figure(figsize=(10, 6))\n",
    "\n",
    "# Bar plot of counts\n",
    "plt.subplot(1, 2, 1)\n",
    "plt.bar(states, count_values)\n",
    "plt.xlabel('Quantum States')\n",
    "plt.ylabel('Measurement Counts')\n",
    "plt.title(f'Bell State Measurements\\n(Total shots: {total_shots})')\n",
    "\n",
    "# Bar plot of probabilities\n",
    "plt.subplot(1, 2, 2)\n",
    "prob_values = list(probabilities.values())\n",
    "plt.bar(states, prob_values)\n",
    "plt.xlabel('Quantum States')\n",
    "plt.ylabel('Probability')\n",
    "plt.title('Bell State Probabilities')\n",
    "plt.ylim(0, 1)\n",
    "\n",
    "plt.tight_layout()\n",
    "plt.show()\n",
    "\n",
    "# Analyze the Bell state\n",
    "print(\"\\n=== Bell State Analysis ===\")\n",
    "print(f\"Expected for perfect Bell state |β₀₀⟩ = (|00⟩ + |11⟩)/√2:\")\n",
    "print(\"- |00⟩: ~50%\")\n",
    "print(\"- |11⟩: ~50%\")\n",
    "print(\"- |01⟩ and |10⟩: ~0%\")\n",
    "print(f\"\\nActual results:\")\n",
    "for state, prob in probabilities.items():\n",
    "    print(f\"- |{state}⟩: {prob:.1%}\")\n",
    "\n",
    "# Calculate entanglement fidelity\n",
    "expected_states = ['00', '11']\n",
    "measured_fidelity = sum(probabilities.get(state, 0) for state in expected_states)\n",
    "print(f\"\\nBell state fidelity: {measured_fidelity:.1%}\")"
   ]
  }
 ],
 "metadata": {
  "kernelspec": {
   "display_name": ".venv",
   "language": "python",
   "name": "python3"
  },
  "language_info": {
   "codemirror_mode": {
    "name": "ipython",
    "version": 3
   },
   "file_extension": ".py",
   "mimetype": "text/x-python",
   "name": "python",
   "nbconvert_exporter": "python",
   "pygments_lexer": "ipython3",
   "version": "3.13.3"
  }
 },
 "nbformat": 4,
 "nbformat_minor": 5
}
