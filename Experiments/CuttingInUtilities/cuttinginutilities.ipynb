{
 "cells": [
  {
   "cell_type": "markdown",
   "id": "0cbf3721",
   "metadata": {},
   "source": [
    "So in the previous Max Cut example, I quickly mentioned three different use cases for Max Cut...I'll be honest, I didn't really understand them. So now it's time to figure it out. "
   ]
  },
  {
   "cell_type": "markdown",
   "id": "bd9e13cb",
   "metadata": {},
   "source": [
    "### Power Grid Optimisation"
   ]
  },
  {
   "cell_type": "markdown",
   "id": "cb7ccf3f",
   "metadata": {},
   "source": [
    "### Load Balancing in Energy Distribution"
   ]
  },
  {
   "cell_type": "markdown",
   "id": "07519798",
   "metadata": {},
   "source": [
    "### Maintenance Scheduling"
   ]
  }
 ],
 "metadata": {
  "language_info": {
   "name": "python"
  }
 },
 "nbformat": 4,
 "nbformat_minor": 5
}
