{
 "cells": [
  {
   "cell_type": "markdown",
   "id": "1e3e673f",
   "metadata": {},
   "source": [
    "# Hello World\n",
    "\n",
    "In this tutorial I'll be following along a simple demonstration of setting up a **quantum program**, and running it on a **quantum processing unit (QPU)**. You have to start somewhere, and the best place is usually from the beginning. \n",
    "\n",
    "Along this tutorial in which we will be creating a simple Bell state circuit, the quantum version of Hello World!\n",
    "\n",
    "But I'll be adding an additional layer of commentary, and making it my own, to help turn this tutorial into something that a mere mortal might be able to understand. If one comes away from this understanding 10% of what is going on, one is doing very well. Better than me...\n",
    "\n",
    "Of course, I skipped over the introductions course. The best learning is done through doing! Working with your hands, rather than pondering in the skies. \n",
    "\n",
    "Ref: https://quantum.cloud.ibm.com/docs/en/tutorials/hello-world"
   ]
  },
  {
   "cell_type": "markdown",
   "id": "5a6c18a4",
   "metadata": {},
   "source": [
    "#### On a side note\n",
    "\n",
    "You may be thinking, what is the point? Why not just follow along with the tutorial and do it. Well for two reasons, #1 the referenced tutorial makes no sense to an actual human, #2 it is very easy to just mindlessly copy and execute code, and feel that satisfaction of doing. But to actually understand what's happening, and the underlying calculations. That's a whole another pursuit. I'm not saying I even come close to be successful here. But maybe one day."
   ]
  },
  {
   "cell_type": "markdown",
   "id": "4089bac7",
   "metadata": {},
   "source": [
    "### What is a Bell state circuit?\n",
    "\n",
    "A Bell state circuit is made up of two gates, the Hadamard gate and a CNOT gate, more on this laters. The combination of these two circuits allow you to investigate the Bell states. Essentially, the 4 states that are created when two qubits are entangled. \n",
    "\n",
    "*these are also known as EPR states*\n",
    "\n",
    "The four bell states:\n",
    "|β₀₀⟩ = (|00⟩ + |11⟩) / √2\n",
    "|β₀₁⟩ = (|01⟩ + |10⟩) / √2\n",
    "|β₁₀⟩ = (|00⟩ - |11⟩) / √2\n",
    "|β₁₁⟩ = (|01⟩ - |10⟩) / √2\n",
    "\n",
    "#### What this actually means\n",
    "\n",
    "The end states are denoted as |β₀₀⟩, |β₀₁⟩, |β₁₀⟩, |β₁₁⟩, also known as  Φ⁺, Φ⁻, Ψ⁺, Ψ⁻\n",
    "\n",
    "- |00⟩ = both qubits in state 0\n",
    "- |01⟩ = first qubit in state 0, second qubit in state 1  \n",
    "- |10⟩ = first qubit in state 1, second qubit in state 0\n",
    "- |11⟩ = both qubits in state 1\n",
    "\n",
    "*In dirac notion, the first number in the brackets is the first qubit, the second the second. \n",
    "\n",
    "#### The mathematics\n",
    "\n",
    "1. You start with the initial state of |00⟩\n",
    "\n",
    "2. Application of the Hadamard gate put it into a superposition of |0⟩ and |1⟩: (|00⟩ + |10⟩)/√2 \n",
    "\n",
    "3. CNOT gate then flips the second qubit, depending on the first: (|00⟩ + |11⟩)/√2 = |β₀₀⟩. We can see that in the first |00 becayse the first qubit is 0, the second doesnt flip, but then in the second because the first is 1, the second is now 1. \n",
    "\n",
    "4. The main point is that because the second qubit depends on the superposition of the first, this means the two qubits are entangled. If this doesn't immediately make sense, neither. But let's proceed forth in ignorance for now. Some understanding just takes time. \n",
    "\n"
   ]
  },
  {
   "cell_type": "markdown",
   "id": "0f98b06c",
   "metadata": {},
   "source": [
    "## Step 1. Crafting Quantum Instructions\n",
    "\n",
    "Quantum Circuits are the human, visual interface that we craft a set of intructions that a Quantum Computer can action. We will be using the Qiskit SDK here. I'll try to explain the code as we go along"
   ]
  },
  {
   "cell_type": "code",
   "execution_count": 4,
   "id": "bdf5e606",
   "metadata": {},
   "outputs": [
    {
     "data": {
      "image/png": "[encoded data removed]",
      "text/plain": [
       "<Figure size 287.294x200.667 with 1 Axes>"
      ]
     },
     "execution_count": 4,
     "metadata": {},
     "output_type": "execute_result"
    }
   ],
   "source": [
    "from qiskit import *\n",
    "\n",
    "\n",
    "# Create a Quantum Circuit with 2 qubits using qiskit\n",
    "qc = QuantumCircuit(2)\n",
    "\n",
    "# Apply Hadamard gate to the first qubit\n",
    "qc.h(0) \n",
    "\n",
    "# Apply CNOT gate with control qubit 0 and target qubit 1\n",
    "qc.cx(0, 1)\n",
    "\n",
    "\n",
    "qc.draw(output=\"mpl\", filename=\"entanglement_circuit.png\")\n"
   ]
  },
  {
   "cell_type": "markdown",
   "id": "d702ba20",
   "metadata": {},
   "source": [
    "## Step 2. Setting up the output\n",
    "\n",
    "In the world of Qiskit, you can return data in two fashions, a probability distribution across a set of qubits, or the expectation value of an observable. \n",
    "\n",
    "### Probability Distribution\n",
    "Shows frequency of each state e.g. frquency of measuring 00, 01, 10, 11\n",
    "\n",
    "### Expectation Values\n",
    "\"Gives yuo quantum mechanical averages\"...yeah I can't think of a good way to explain this, so maybe I'll try to show you.\n",
    "\n",
    "As, in this example, we measure expectation values.\n",
    "\n",
    "To do this, we need to create 6 two-qubit Pauli Operators: IZ, IX, ZI, XI, ZZ, XX. \n",
    "\n",
    "### What are these you ask?\n",
    "\n",
    "Well before we start with the two, we should probably start with the single qubit pauli matrices\n",
    "\n",
    "The Four Pauli Matrices\n",
    "\n",
    "#### I (Identity Matrix)\n",
    "I = (1  0)\n",
    "    (0  1)\n",
    "\n",
    "Effect: Does nothing - leaves the qubit unchanged\n",
    "Physical meaning: No operation applied\n",
    "On |0⟩: I|0⟩ = |0⟩\n",
    "On |1⟩: I|1⟩ = |1⟩\n",
    "\n",
    "#### X (Pauli-X / NOT Gate)\n",
    "X = (0  1)\n",
    "    (1  0)\n",
    "Effect: Flips the qubit state (bit flip)\n",
    "Physical meaning: Rotation around X-axis of Bloch sphere\n",
    "On |0⟩: X|0⟩ = |1⟩\n",
    "On |1⟩: X|1⟩ = |0⟩\n",
    "\n",
    "#### Y (Pauli-Y)\n",
    "\n",
    "Y = (0  -i)\n",
    "    (i   0)\n",
    "\n",
    "Effect: Combines bit flip and phase flip\n",
    "Physical meaning: Rotation around Y-axis of Bloch sphere\n",
    "On |0⟩: Y|0⟩ = i|1⟩\n",
    "On |1⟩: Y|1⟩ = -i|0⟩\n",
    "\n",
    "#### Z (Pauli-Z / Phase Flip)\n",
    "Effect: Flips the phase (leaves |0⟩ unchanged, adds minus sign to |1⟩)\n",
    "Physical meaning: Rotation around Z-axis of Bloch sphere\n",
    "On |0⟩: Z|0⟩ = |0⟩\n",
    "On |1⟩: Z|1⟩ = -|1⟩\n",
    "\n"
   ]
  },
  {
   "cell_type": "markdown",
   "id": "ce1b2741",
   "metadata": {},
   "source": [
    "### TLDR\n",
    "\n",
    "So long story short, the way I like to think of it (perhaps wrongly) is the these operators represent the change to the qubits value that we might expect. The expectation value of an operator is the average outcome that you would obtain \n",
    "\n",
    "So I represents no change before and after the quantum circuit, Y is a flip in the Y axis, and Z is a rotation in the Z axis. "
   ]
  },
  {
   "cell_type": "markdown",
   "id": "e9a50b02",
   "metadata": {},
   "source": [
    "## Back to two-bit Pauli Operators"
   ]
  },
  {
   "cell_type": "code",
   "execution_count": 5,
   "id": "9d769a89",
   "metadata": {},
   "outputs": [
    {
     "name": "stdout",
     "output_type": "stream",
     "text": [
      "SparsePauliOp(['IZ'],\n",
      "              coeffs=[1.+0.j]): Matrix shape (4, 4)\n",
      "Matrix:\n",
      "[[ 1.+0.j  0.+0.j  0.+0.j  0.+0.j]\n",
      " [ 0.+0.j -1.+0.j  0.+0.j  0.+0.j]\n",
      " [ 0.+0.j  0.+0.j  1.+0.j  0.+0.j]\n",
      " [ 0.+0.j  0.+0.j  0.+0.j -1.+0.j]]\n",
      "\n",
      "SparsePauliOp(['IX'],\n",
      "              coeffs=[1.+0.j]): Matrix shape (4, 4)\n",
      "Matrix:\n",
      "[[0.+0.j 1.+0.j 0.+0.j 0.+0.j]\n",
      " [1.+0.j 0.+0.j 0.+0.j 0.+0.j]\n",
      " [0.+0.j 0.+0.j 0.+0.j 1.+0.j]\n",
      " [0.+0.j 0.+0.j 1.+0.j 0.+0.j]]\n",
      "\n",
      "SparsePauliOp(['ZI'],\n",
      "              coeffs=[1.+0.j]): Matrix shape (4, 4)\n",
      "Matrix:\n",
      "[[ 1.+0.j  0.+0.j  0.+0.j  0.+0.j]\n",
      " [ 0.+0.j  1.+0.j  0.+0.j  0.+0.j]\n",
      " [ 0.+0.j  0.+0.j -1.+0.j  0.+0.j]\n",
      " [ 0.+0.j  0.+0.j  0.+0.j -1.+0.j]]\n",
      "\n",
      "SparsePauliOp(['XI'],\n",
      "              coeffs=[1.+0.j]): Matrix shape (4, 4)\n",
      "Matrix:\n",
      "[[0.+0.j 0.+0.j 1.+0.j 0.+0.j]\n",
      " [0.+0.j 0.+0.j 0.+0.j 1.+0.j]\n",
      " [1.+0.j 0.+0.j 0.+0.j 0.+0.j]\n",
      " [0.+0.j 1.+0.j 0.+0.j 0.+0.j]]\n",
      "\n",
      "SparsePauliOp(['ZZ'],\n",
      "              coeffs=[1.+0.j]): Matrix shape (4, 4)\n",
      "Matrix:\n",
      "[[ 1.+0.j  0.+0.j  0.+0.j  0.+0.j]\n",
      " [ 0.+0.j -1.+0.j  0.+0.j  0.+0.j]\n",
      " [ 0.+0.j  0.+0.j -1.+0.j  0.+0.j]\n",
      " [ 0.+0.j  0.+0.j  0.+0.j  1.+0.j]]\n",
      "\n",
      "SparsePauliOp(['XX'],\n",
      "              coeffs=[1.+0.j]): Matrix shape (4, 4)\n",
      "Matrix:\n",
      "[[0.+0.j 0.+0.j 0.+0.j 1.+0.j]\n",
      " [0.+0.j 0.+0.j 1.+0.j 0.+0.j]\n",
      " [0.+0.j 1.+0.j 0.+0.j 0.+0.j]\n",
      " [1.+0.j 0.+0.j 0.+0.j 0.+0.j]]\n",
      "\n"
     ]
    }
   ],
   "source": [
    "# We use SparsePauliOp from the quantum_info to define observables\n",
    "from qiskit.quantum_info import SparsePauliOp\n",
    "\n",
    "\n",
    "observables = [\n",
    "    SparsePauliOp(\"IZ\"),  # Measures qubit 1 in Z basis\n",
    "    SparsePauliOp(\"IX\"),  # Measures qubit 1 in X basis\n",
    "    SparsePauliOp(\"ZI\"),  # Measures qubit 0 in Z basis  \n",
    "    SparsePauliOp(\"XI\"),  # Measures qubit 0 in X basis\n",
    "    SparsePauliOp(\"ZZ\"),  # Measures correlation between both qubits in Z basis\n",
    "    SparsePauliOp(\"XX\"),  # Measures correlation in X basis\n",
    "]\n",
    "\n",
    "# Let's see what these mean mathematically\n",
    "for obs in observables:\n",
    "    print(f\"{obs}: Matrix shape {obs.to_matrix().shape}\")\n",
    "    print(f\"Matrix:\\n{obs.to_matrix()}\\n\")\n"
   ]
  },
  {
   "cell_type": "markdown",
   "id": "5684cad5",
   "metadata": {},
   "source": [
    "\n",
    "### 🧮 Basis States and Vectors\n",
    "\n",
    "| State | Vector |\n",
    "|-------|--------|\n",
    "| |00⟩ | [1, 0, 0, 0]ᵀ |\n",
    "| |01⟩ | [0, 1, 0, 0]ᵀ |\n",
    "| |10⟩ | [0, 0, 1, 0]ᵀ |\n",
    "| |11⟩ | [0, 0, 0, 1]ᵀ |\n",
    "\n",
    "### 🧪 Example: Apply Matrix M SparsePauliOp(['IZ'], to |01⟩\n",
    "\n",
    "Let's multiply matrix SparsePauliOp(['IZ'], by the vector for |01⟩:\n",
    "\n",
    "$$\n",
    "M =\n",
    "\\begin{bmatrix}\n",
    "1 & 0 & 0 & 0 \\\\\n",
    "0 & -1 & 0 & 0 \\\\\n",
    "0 & 0 & 1 & 0 \\\\\n",
    "0 & 0 & 0 & -1\n",
    "\\end{bmatrix}\n",
    ",\\quad\n",
    "|01⟩ =\n",
    "\\begin{bmatrix}\n",
    "0 \\\\\n",
    "1 \\\\\n",
    "0 \\\\\n",
    "0\n",
    "\\end{bmatrix}\n",
    "$$\n",
    "\n",
    "$$\n",
    "M \\cdot |01⟩ =\n",
    "\\begin{bmatrix}\n",
    "1 & 0 & 0 & 0 \\\\\n",
    "0 & -1 & 0 & 0 \\\\\n",
    "0 & 0 & 1 & 0 \\\\\n",
    "0 & 0 & 0 & -1\n",
    "\\end{bmatrix}\n",
    "\\cdot\n",
    "\\begin{bmatrix}\n",
    "0 \\\\\n",
    "1 \\\\\n",
    "0 \\\\\n",
    "0\n",
    "\\end{bmatrix}\n",
    "=\n",
    "\\begin{bmatrix}\n",
    "0 \\\\\n",
    "-1 \\\\\n",
    "0 \\\\\n",
    "0\n",
    "\\end{bmatrix}\n",
    "= -1 \\cdot |01⟩\n",
    "$$\n",
    "\n",
    "✅ **Result**: The state remains |01⟩, but acquires a global phase of **−1**."
   ]
  },
  {
   "cell_type": "markdown",
   "id": "9319de64",
   "metadata": {},
   "source": [
    "### Moving on\n",
    "\n",
    "So we have set up the observables. But there are a couple of things that we need to do:\n",
    "\n",
    "1. We need to confirm our intrsuctions to the backend devices Instruction Set Architecture\n",
    "\n",
    "I'm going to be doing this on a live machine. "
   ]
  },
  {
   "cell_type": "markdown",
   "id": "55c70ef1",
   "metadata": {},
   "source": [
    "#### What the hell is the Instruction Set Architecture (ISA)?\n",
    "\n"
   ]
  },
  {
   "cell_type": "code",
   "execution_count": 8,
   "id": "399d678d",
   "metadata": {},
   "outputs": [
    {
     "name": "stderr",
     "output_type": "stream",
     "text": [
      "management.get:WARNING:2025-10-07 07:13:37,964: Loading default saved account\n"
     ]
    },
    {
     "name": "stdout",
     "output_type": "stream",
     "text": [
      "Successfully connected to IBM Quantum!\n",
      "<bound method QiskitRuntimeService.backends of <QiskitRuntimeService>>\n"
     ]
    }
   ],
   "source": [
    "from qiskit_ibm_runtime import QiskitRuntimeService\n",
    "import os\n",
    "from dotenv import load_dotenv\n",
    "\n",
    "# Load environment variables from .env file\n",
    "load_dotenv()\n",
    "\n",
    "# Get credentials from environment variables\n",
    "token = os.getenv('IBM_QUANTUM_TOKEN')\n",
    "instance = os.getenv('IBM_QUANTUM_INSTANCE')\n",
    "\n",
    "if token is None:\n",
    "    raise ValueError(\"Please set IBM_QUANTUM_TOKEN in your .env file\")\n",
    "\n",
    "# Save and create the service\n",
    "QiskitRuntimeService.save_account(\n",
    "    token=token,\n",
    "    instance=instance,\n",
    "    overwrite=True\n",
    ")\n",
    "\n",
    "service = QiskitRuntimeService()\n",
    "print(\"Successfully connected to IBM Quantum!\")\n",
    "print(service.backends)"
   ]
  },
  {
   "cell_type": "code",
   "execution_count": 9,
   "id": "9ca85601",
   "metadata": {},
   "outputs": [
    {
     "data": {
      "image/png": "[encoded data removed]",
      "text/plain": [
       "<Figure size 757.83x200.667 with 1 Axes>"
      ]
     },
     "execution_count": 9,
     "metadata": {},
     "output_type": "execute_result"
    }
   ],
   "source": [
    "from qiskit.transpiler.preset_passmanagers import generate_preset_pass_manager\n",
    "\n",
    "# I've specifically had issues with the other ones so I use ibm_torino, but you can also use .least_busy()\n",
    "backend = service.backend('ibm_torino')\n",
    "\n",
    "pm = generate_preset_pass_manager(backend=backend, optimization_level=1)\n",
    "#1 = equalling light optimisation\n",
    "\n",
    "transpiled_qc = pm.run(qc)\n",
    "\n",
    "transpiled_qc.draw(output=\"mpl\", filename=\"transpiled_circuit.png\")\n"
   ]
  },
  {
   "cell_type": "code",
   "execution_count": null,
   "id": "0eab1c15",
   "metadata": {},
   "outputs": [
    {
     "name": "stdout",
     "output_type": "stream",
     "text": [
      "ibm_brisbane\n",
      "127\n",
      "ibm_torino\n",
      "133\n",
      "Backend Status: active\n",
      "Pending Jobs: 659\n"
     ]
    }
   ],
   "source": [
    "for backend in service.backends():\n",
    "    print(backend.name)\n",
    "    print(backend.num_qubits)\n",
    "\n",
    "\n",
    "status = backend.status()\n",
    "print(f\"Backend Status: {status.status_msg}\")\n",
    "print(f\"Pending Jobs: {status.pending_jobs}\")"
   ]
  },
  {
   "cell_type": "markdown",
   "id": "7fc1272b",
   "metadata": {},
   "source": [
    "### What is this Pass Maanger?\n",
    "\n",
    "So this Pass Manager is essentially the pipeline of transforms that are required to convert your abstract (idealised) quantum circuit into something that can actually be run by the limited quantum hardware.\n",
    "\n",
    "Due to hardware limitations such as:\n",
    "- Limited connectivity: Not all qubits can directly interact\n",
    "- Native gate set: Hardware only supports specific gates (not necessarily H and CNOT)\n",
    "- Noise and errors: Some sequences are more robust than others\n",
    "\n",
    "We are required to:\n",
    "1.  adapt our circuit to the hardware's constraints\n",
    "2. Optimise the circuit for better performance\n",
    "3. Map our virtual qubits to the physical qubits on the device"
   ]
  },
  {
   "cell_type": "code",
   "execution_count": null,
   "id": "b22a831d",
   "metadata": {},
   "outputs": [
    {
     "data": {
      "text/html": [
       "<pre style=\"word-wrap: normal;white-space: pre;background: #fff0;line-height: 1.1;font-family: &quot;Courier New&quot;,Courier,monospace\">global phase: 3π/4\n",
       "         ┌─────────┐┌────┐┌─────────┐                               \n",
       "q_0 -> 0 ┤ Rz(π/2) ├┤ √X ├┤ Rz(π/2) ├─■─────────────────────────────\n",
       "         ├─────────┤├────┤├─────────┤ │ ┌─────────┐┌────┐┌─────────┐\n",
       "q_1 -> 1 ┤ Rz(π/2) ├┤ √X ├┤ Rz(π/2) ├─■─┤ Rz(π/2) ├┤ √X ├┤ Rz(π/2) ├\n",
       "         └─────────┘└────┘└─────────┘   └─────────┘└────┘└─────────┘</pre>"
      ],
      "text/plain": [
       "global phase: 3π/4\n",
       "         ┌─────────┐┌────┐┌─────────┐                               \n",
       "q_0 -> 0 ┤ Rz(π/2) ├┤ √X ├┤ Rz(π/2) ├─■─────────────────────────────\n",
       "         ├─────────┤├────┤├─────────┤ │ ┌─────────┐┌────┐┌─────────┐\n",
       "q_1 -> 1 ┤ Rz(π/2) ├┤ √X ├┤ Rz(π/2) ├─■─┤ Rz(π/2) ├┤ √X ├┤ Rz(π/2) ├\n",
       "         └─────────┘└────┘└─────────┘   └─────────┘└────┘└─────────┘"
      ]
     },
     "execution_count": 11,
     "metadata": {},
     "output_type": "execute_result"
    }
   ],
   "source": [
    "\n",
    "transpiled_qc.draw(idle_wires=False)\n"
   ]
  },
  {
   "cell_type": "code",
   "execution_count": null,
   "id": "5d926bd9",
   "metadata": {},
   "outputs": [
    {
     "data": {
      "text/html": [
       "<pre style=\"word-wrap: normal;white-space: pre;background: #fff0;line-height: 1.1;font-family: &quot;Courier New&quot;,Courier,monospace\">     ┌───┐     \n",
       "q_0: ┤ H ├──■──\n",
       "     └───┘┌─┴─┐\n",
       "q_1: ─────┤ X ├\n",
       "          └───┘</pre>"
      ],
      "text/plain": [
       "     ┌───┐     \n",
       "q_0: ┤ H ├──■──\n",
       "     └───┘┌─┴─┐\n",
       "q_1: ─────┤ X ├\n",
       "          └───┘"
      ]
     },
     "execution_count": 12,
     "metadata": {},
     "output_type": "execute_result"
    }
   ],
   "source": [
    "qc.draw()"
   ]
  },
  {
   "cell_type": "markdown",
   "id": "6e6fbeb2",
   "metadata": {},
   "source": []
  },
  {
   "cell_type": "markdown",
   "id": "9507175f",
   "metadata": {},
   "source": [
    "### Now if we compare all the gates"
   ]
  },
  {
   "cell_type": "code",
   "execution_count": null,
   "id": "be7803fd",
   "metadata": {},
   "outputs": [
    {
     "name": "stdout",
     "output_type": "stream",
     "text": [
      "\n",
      "Original gates: OrderedDict({'h': 1, 'cx': 1})\n",
      "Transpiled gates: OrderedDict({'rz': 6, 'sx': 3, 'cz': 1})\n"
     ]
    }
   ],
   "source": [
    "# Check the gate counts\n",
    "print(f\"\\nOriginal gates: {qc.count_ops()}\")\n",
    "print(f\"Transpiled gates: {transpiled_qc.count_ops()}\")"
   ]
  },
  {
   "cell_type": "markdown",
   "id": "e2a7959c",
   "metadata": {},
   "source": [
    "#### New Gates now include\n",
    "\n",
    "##### rz - Z-Rotation Gate\n",
    "What it does: Rotates qubit around the Z-axis of the Bloch sphere.\n",
    "\n",
    "Why is it used:\n",
    "\n",
    "\n",
    "##### sx - Square-root-of-X Gate\n",
    "What it does: Performs a π/2 rotation around the X-axis — halfway between identity and a full bit-flip.\n",
    "\n",
    "Why is it used: Building block for creating the Hadamard gate. H ≈ RZ(π) · SX · RZ(π)\n",
    "\n",
    "##### cz - Controlled-Z Gate (1 instance)\n",
    "What it does: Flips the sign of |11⟩ → −|11⟩.\n",
    "\n",
    "Why is it used:  Introduces entanglement when combined with Hadamard. H ⋅ CZ ⋅ H = CNOT\n",
    "\n",
    "\n",
    "\n",
    "This is why transpilation is crucial - it bridges the gap between what's easy for humans to understand and what the quantum hardware can actually execute!"
   ]
  },
  {
   "cell_type": "markdown",
   "id": "5b7863bc",
   "metadata": {},
   "source": [
    "### Executing the circuit and measuring observables\n",
    "\n",
    "To do this we need primitives! We need to run the circuit multiple times due to random results. Therefore, probability reveals the true answer. In QiSkit there are two primitives: <ZZ> = 0.85\n",
    "\n",
    "1. The Estimator - gives you the expectation value of observables => A single number representing the quantum mechanical averages e.g. \n",
    "\n",
    "2. The Sampler - used to return a probability distributions\n",
    "\n",
    "Since we set up the observables earlier, let's start with The Estimator!\n",
    "\n"
   ]
  },
  {
   "cell_type": "code",
   "execution_count": null,
   "id": "db3289d3",
   "metadata": {},
   "outputs": [
    {
     "name": "stdout",
     "output_type": "stream",
     "text": [
      "[SparsePauliOp(['IIIIIIIIIIIIIIIIIIIIIIIIIIIIIIIIIIIIIIIIIIIIIIIIIIIIIIIIIIIIIIIIIIIIIIIIIIIIIIIIIIIIIIIIIIIIIIIIIIIIIIIIIIIIIIIIIIIIIIIIIIIIIIIIIIIIZ'],\n",
      "              coeffs=[1.+0.j]), SparsePauliOp(['IIIIIIIIIIIIIIIIIIIIIIIIIIIIIIIIIIIIIIIIIIIIIIIIIIIIIIIIIIIIIIIIIIIIIIIIIIIIIIIIIIIIIIIIIIIIIIIIIIIIIIIIIIIIIIIIIIIIIIIIIIIIIIIIIIIIX'],\n",
      "              coeffs=[1.+0.j]), SparsePauliOp(['IIIIIIIIIIIIIIIIIIIIIIIIIIIIIIIIIIIIIIIIIIIIIIIIIIIIIIIIIIIIIIIIIIIIIIIIIIIIIIIIIIIIIIIIIIIIIIIIIIIIIIIIIIIIIIIIIIIIIIIIIIIIIIIIIIIZI'],\n",
      "              coeffs=[1.+0.j]), SparsePauliOp(['IIIIIIIIIIIIIIIIIIIIIIIIIIIIIIIIIIIIIIIIIIIIIIIIIIIIIIIIIIIIIIIIIIIIIIIIIIIIIIIIIIIIIIIIIIIIIIIIIIIIIIIIIIIIIIIIIIIIIIIIIIIIIIIIIIIXI'],\n",
      "              coeffs=[1.+0.j]), SparsePauliOp(['IIIIIIIIIIIIIIIIIIIIIIIIIIIIIIIIIIIIIIIIIIIIIIIIIIIIIIIIIIIIIIIIIIIIIIIIIIIIIIIIIIIIIIIIIIIIIIIIIIIIIIIIIIIIIIIIIIIIIIIIIIIIIIIIIIIZZ'],\n",
      "              coeffs=[1.+0.j]), SparsePauliOp(['IIIIIIIIIIIIIIIIIIIIIIIIIIIIIIIIIIIIIIIIIIIIIIIIIIIIIIIIIIIIIIIIIIIIIIIIIIIIIIIIIIIIIIIIIIIIIIIIIIIIIIIIIIIIIIIIIIIIIIIIIIIIIIIIIIIXX'],\n",
      "              coeffs=[1.+0.j])]\n"
     ]
    }
   ],
   "source": [
    "from qiskit_ibm_runtime import Estimator\n",
    "# We begin by setting up the estimator primitive\n",
    "\n",
    "estimator = Estimator(mode=backend)\n",
    "estimator.options.resilience_level = 1\n",
    "estimator.options.default_shots = 5000\n",
    "\n",
    "# mapping your observables to match the physical qubits that your transpiled circuit is using.\n",
    "mapped_observables = [observable.apply_layout(transpiled_qc.layout) for observable in observables]\n",
    "\n",
    "print(mapped_observables)\n"
   ]
  },
  {
   "cell_type": "markdown",
   "id": "cab38e76",
   "metadata": {},
   "source": [
    "#### A quick note on the mapping"
   ]
  },
  {
   "cell_type": "markdown",
   "id": "0831433b",
   "metadata": {},
   "source": [
    "### Running the job\n"
   ]
  },
  {
   "cell_type": "code",
   "execution_count": null,
   "id": "659af739",
   "metadata": {},
   "outputs": [
    {
     "name": "stderr",
     "output_type": "stream",
     "text": [
      "/Users/gatsby.fitzgerald/Library/CloudStorage/OneDrive-Accenture/Development/QuantumPlayground/.venv/lib/python3.12/site-packages/qiskit_ibm_runtime/qiskit_runtime_service.py:955: UserWarning: The backend ibm_torino currently has a status of internal.\n",
      "  warnings.warn(\n"
     ]
    },
    {
     "name": "stdout",
     "output_type": "stream",
     "text": [
      "Save this Job ID: <bound method BasePrimitiveJob.job_id of <RuntimeJobV2('d3d1pf6dacis73dbdv50', 'estimator')>>\n"
     ]
    },
    {
     "ename": "KeyboardInterrupt",
     "evalue": "",
     "output_type": "error",
     "traceback": [
      "\u001b[31m---------------------------------------------------------------------------\u001b[39m",
      "\u001b[31mKeyboardInterrupt\u001b[39m                         Traceback (most recent call last)",
      "\u001b[36mCell\u001b[39m\u001b[36m \u001b[39m\u001b[32mIn[15]\u001b[39m\u001b[32m, line 5\u001b[39m\n\u001b[32m      2\u001b[39m job_id = job.job_id\n\u001b[32m      3\u001b[39m \u001b[38;5;28mprint\u001b[39m(\u001b[33mf\u001b[39m\u001b[33m\"\u001b[39m\u001b[33mSave this Job ID: \u001b[39m\u001b[38;5;132;01m{\u001b[39;00mjob_id\u001b[38;5;132;01m}\u001b[39;00m\u001b[33m\"\u001b[39m)\n\u001b[32m----> \u001b[39m\u001b[32m5\u001b[39m result = \u001b[43mjob\u001b[49m\u001b[43m.\u001b[49m\u001b[43mresult\u001b[49m\u001b[43m(\u001b[49m\u001b[43m)\u001b[49m\n",
      "\u001b[36mFile \u001b[39m\u001b[32m~/Library/CloudStorage/OneDrive-Accenture/Development/QuantumPlayground/.venv/lib/python3.12/site-packages/qiskit_ibm_runtime/runtime_job_v2.py:126\u001b[39m, in \u001b[36mRuntimeJobV2.result\u001b[39m\u001b[34m(self, timeout, decoder)\u001b[39m\n\u001b[32m    111\u001b[39m \u001b[38;5;250m\u001b[39m\u001b[33;03m\"\"\"Return the results of the job.\u001b[39;00m\n\u001b[32m    112\u001b[39m \n\u001b[32m    113\u001b[39m \u001b[33;03mArgs:\u001b[39;00m\n\u001b[32m   (...)\u001b[39m\u001b[32m    123\u001b[39m \u001b[33;03m    RuntimeInvalidStateError: If the job was cancelled, and attempting to retrieve result.\u001b[39;00m\n\u001b[32m    124\u001b[39m \u001b[33;03m\"\"\"\u001b[39;00m\n\u001b[32m    125\u001b[39m _decoder = decoder \u001b[38;5;129;01mor\u001b[39;00m \u001b[38;5;28mself\u001b[39m._final_result_decoder\n\u001b[32m--> \u001b[39m\u001b[32m126\u001b[39m \u001b[38;5;28;43mself\u001b[39;49m\u001b[43m.\u001b[49m\u001b[43mwait_for_final_state\u001b[49m\u001b[43m(\u001b[49m\u001b[43mtimeout\u001b[49m\u001b[43m=\u001b[49m\u001b[43mtimeout\u001b[49m\u001b[43m)\u001b[49m\n\u001b[32m    127\u001b[39m \u001b[38;5;28;01mif\u001b[39;00m \u001b[38;5;28mself\u001b[39m._status == \u001b[33m\"\u001b[39m\u001b[33mERROR\u001b[39m\u001b[33m\"\u001b[39m:\n\u001b[32m    128\u001b[39m     error_message = \u001b[38;5;28mself\u001b[39m._reason \u001b[38;5;28;01mif\u001b[39;00m \u001b[38;5;28mself\u001b[39m._reason \u001b[38;5;28;01melse\u001b[39;00m \u001b[38;5;28mself\u001b[39m._error_message\n",
      "\u001b[36mFile \u001b[39m\u001b[32m~/Library/CloudStorage/OneDrive-Accenture/Development/QuantumPlayground/.venv/lib/python3.12/site-packages/qiskit_ibm_runtime/runtime_job_v2.py:245\u001b[39m, in \u001b[36mRuntimeJobV2.wait_for_final_state\u001b[39m\u001b[34m(self, timeout)\u001b[39m\n\u001b[32m    241\u001b[39m             \u001b[38;5;28;01mraise\u001b[39;00m RuntimeJobTimeoutError(\n\u001b[32m    242\u001b[39m                 \u001b[33mf\u001b[39m\u001b[33m\"\u001b[39m\u001b[33mTimed out waiting for job to complete after \u001b[39m\u001b[38;5;132;01m{\u001b[39;00mtimeout\u001b[38;5;132;01m}\u001b[39;00m\u001b[33m secs.\u001b[39m\u001b[33m\"\u001b[39m\n\u001b[32m    243\u001b[39m             )\n\u001b[32m    244\u001b[39m         time.sleep(\u001b[32m0.1\u001b[39m)\n\u001b[32m--> \u001b[39m\u001b[32m245\u001b[39m         status = \u001b[38;5;28;43mself\u001b[39;49m\u001b[43m.\u001b[49m\u001b[43mstatus\u001b[49m\u001b[43m(\u001b[49m\u001b[43m)\u001b[49m\n\u001b[32m    246\u001b[39m \u001b[38;5;28;01mexcept\u001b[39;00m futures.TimeoutError:\n\u001b[32m    247\u001b[39m     \u001b[38;5;28;01mraise\u001b[39;00m RuntimeJobTimeoutError(\n\u001b[32m    248\u001b[39m         \u001b[33mf\u001b[39m\u001b[33m\"\u001b[39m\u001b[33mTimed out waiting for job to complete after \u001b[39m\u001b[38;5;132;01m{\u001b[39;00mtimeout\u001b[38;5;132;01m}\u001b[39;00m\u001b[33m secs.\u001b[39m\u001b[33m\"\u001b[39m\n\u001b[32m    249\u001b[39m     )\n",
      "\u001b[36mFile \u001b[39m\u001b[32m~/Library/CloudStorage/OneDrive-Accenture/Development/QuantumPlayground/.venv/lib/python3.12/site-packages/qiskit_ibm_runtime/runtime_job_v2.py:162\u001b[39m, in \u001b[36mRuntimeJobV2.status\u001b[39m\u001b[34m(self)\u001b[39m\n\u001b[32m    156\u001b[39m \u001b[38;5;28;01mdef\u001b[39;00m\u001b[38;5;250m \u001b[39m\u001b[34mstatus\u001b[39m(\u001b[38;5;28mself\u001b[39m) -> JobStatus:\n\u001b[32m    157\u001b[39m \u001b[38;5;250m    \u001b[39m\u001b[33;03m\"\"\"Return the status of the job.\u001b[39;00m\n\u001b[32m    158\u001b[39m \n\u001b[32m    159\u001b[39m \u001b[33;03m    Returns:\u001b[39;00m\n\u001b[32m    160\u001b[39m \u001b[33;03m        Status of this job.\u001b[39;00m\n\u001b[32m    161\u001b[39m \u001b[33;03m    \"\"\"\u001b[39;00m\n\u001b[32m--> \u001b[39m\u001b[32m162\u001b[39m     \u001b[38;5;28;43mself\u001b[39;49m\u001b[43m.\u001b[49m\u001b[43m_set_status_and_error_message\u001b[49m\u001b[43m(\u001b[49m\u001b[43m)\u001b[49m\n\u001b[32m    163\u001b[39m     \u001b[38;5;28;01mreturn\u001b[39;00m \u001b[38;5;28mself\u001b[39m._status\n",
      "\u001b[36mFile \u001b[39m\u001b[32m~/Library/CloudStorage/OneDrive-Accenture/Development/QuantumPlayground/.venv/lib/python3.12/site-packages/qiskit_ibm_runtime/base_runtime_job.py:202\u001b[39m, in \u001b[36mBaseRuntimeJob._set_status_and_error_message\u001b[39m\u001b[34m(self)\u001b[39m\n\u001b[32m    200\u001b[39m \u001b[38;5;250m\u001b[39m\u001b[33;03m\"\"\"Fetch and set status and error message.\"\"\"\u001b[39;00m\n\u001b[32m    201\u001b[39m \u001b[38;5;28;01mif\u001b[39;00m \u001b[38;5;28mself\u001b[39m._status \u001b[38;5;129;01mnot\u001b[39;00m \u001b[38;5;129;01min\u001b[39;00m \u001b[38;5;28mself\u001b[39m.JOB_FINAL_STATES:\n\u001b[32m--> \u001b[39m\u001b[32m202\u001b[39m     response = \u001b[38;5;28;43mself\u001b[39;49m\u001b[43m.\u001b[49m\u001b[43m_api_client\u001b[49m\u001b[43m.\u001b[49m\u001b[43mjob_get\u001b[49m\u001b[43m(\u001b[49m\u001b[43mjob_id\u001b[49m\u001b[43m=\u001b[49m\u001b[38;5;28;43mself\u001b[39;49m\u001b[43m.\u001b[49m\u001b[43mjob_id\u001b[49m\u001b[43m(\u001b[49m\u001b[43m)\u001b[49m\u001b[43m)\u001b[49m\n\u001b[32m    203\u001b[39m     \u001b[38;5;28mself\u001b[39m._set_status(response)\n\u001b[32m    204\u001b[39m     \u001b[38;5;28mself\u001b[39m._set_error_message(response)\n",
      "\u001b[36mFile \u001b[39m\u001b[32m~/Library/CloudStorage/OneDrive-Accenture/Development/QuantumPlayground/.venv/lib/python3.12/site-packages/qiskit_ibm_runtime/api/clients/runtime.py:105\u001b[39m, in \u001b[36mRuntimeClient.job_get\u001b[39m\u001b[34m(self, job_id, exclude_params)\u001b[39m\n\u001b[32m     96\u001b[39m \u001b[38;5;28;01mdef\u001b[39;00m\u001b[38;5;250m \u001b[39m\u001b[34mjob_get\u001b[39m(\u001b[38;5;28mself\u001b[39m, job_id: \u001b[38;5;28mstr\u001b[39m, exclude_params: \u001b[38;5;28mbool\u001b[39m = \u001b[38;5;28;01mTrue\u001b[39;00m) -> Dict:\n\u001b[32m     97\u001b[39m \u001b[38;5;250m    \u001b[39m\u001b[33;03m\"\"\"Get job data.\u001b[39;00m\n\u001b[32m     98\u001b[39m \n\u001b[32m     99\u001b[39m \u001b[33;03m    Args:\u001b[39;00m\n\u001b[32m   (...)\u001b[39m\u001b[32m    103\u001b[39m \u001b[33;03m        JSON response.\u001b[39;00m\n\u001b[32m    104\u001b[39m \u001b[33;03m    \"\"\"\u001b[39;00m\n\u001b[32m--> \u001b[39m\u001b[32m105\u001b[39m     response = \u001b[38;5;28;43mself\u001b[39;49m\u001b[43m.\u001b[49m\u001b[43m_api\u001b[49m\u001b[43m.\u001b[49m\u001b[43mprogram_job\u001b[49m\u001b[43m(\u001b[49m\u001b[43mjob_id\u001b[49m\u001b[43m)\u001b[49m\u001b[43m.\u001b[49m\u001b[43mget\u001b[49m\u001b[43m(\u001b[49m\u001b[43mexclude_params\u001b[49m\u001b[43m=\u001b[49m\u001b[43mexclude_params\u001b[49m\u001b[43m)\u001b[49m\n\u001b[32m    106\u001b[39m     logger.debug(\u001b[33m\"\u001b[39m\u001b[33mRuntime job get response: \u001b[39m\u001b[38;5;132;01m%s\u001b[39;00m\u001b[33m\"\u001b[39m, response)\n\u001b[32m    107\u001b[39m     \u001b[38;5;28;01mreturn\u001b[39;00m response\n",
      "\u001b[36mFile \u001b[39m\u001b[32m~/Library/CloudStorage/OneDrive-Accenture/Development/QuantumPlayground/.venv/lib/python3.12/site-packages/qiskit_ibm_runtime/api/rest/program_job.py:59\u001b[39m, in \u001b[36mProgramJob.get\u001b[39m\u001b[34m(self, exclude_params)\u001b[39m\n\u001b[32m     56\u001b[39m \u001b[38;5;28;01mif\u001b[39;00m exclude_params:\n\u001b[32m     57\u001b[39m     payload[\u001b[33m\"\u001b[39m\u001b[33mexclude_params\u001b[39m\u001b[33m\"\u001b[39m] = \u001b[33m\"\u001b[39m\u001b[33mtrue\u001b[39m\u001b[33m\"\u001b[39m\n\u001b[32m---> \u001b[39m\u001b[32m59\u001b[39m \u001b[38;5;28;01mreturn\u001b[39;00m \u001b[38;5;28;43mself\u001b[39;49m\u001b[43m.\u001b[49m\u001b[43msession\u001b[49m\u001b[43m.\u001b[49m\u001b[43mget\u001b[49m\u001b[43m(\u001b[49m\n\u001b[32m     60\u001b[39m \u001b[43m    \u001b[49m\u001b[38;5;28;43mself\u001b[39;49m\u001b[43m.\u001b[49m\u001b[43mget_url\u001b[49m\u001b[43m(\u001b[49m\u001b[33;43m\"\u001b[39;49m\u001b[33;43mself\u001b[39;49m\u001b[33;43m\"\u001b[39;49m\u001b[43m)\u001b[49m\u001b[43m,\u001b[49m\u001b[43m \u001b[49m\u001b[43mparams\u001b[49m\u001b[43m=\u001b[49m\u001b[43mpayload\u001b[49m\u001b[43m,\u001b[49m\u001b[43m \u001b[49m\u001b[43mheaders\u001b[49m\u001b[43m=\u001b[49m\u001b[38;5;28;43mself\u001b[39;49m\u001b[43m.\u001b[49m\u001b[43m_HEADER_JSON_ACCEPT\u001b[49m\n\u001b[32m     61\u001b[39m \u001b[43m\u001b[49m\u001b[43m)\u001b[49m.json(\u001b[38;5;28mcls\u001b[39m=RuntimeDecoder)\n",
      "\u001b[36mFile \u001b[39m\u001b[32m~/Library/CloudStorage/OneDrive-Accenture/Development/QuantumPlayground/.venv/lib/python3.12/site-packages/requests/sessions.py:602\u001b[39m, in \u001b[36mSession.get\u001b[39m\u001b[34m(self, url, **kwargs)\u001b[39m\n\u001b[32m    594\u001b[39m \u001b[38;5;250m\u001b[39m\u001b[33mr\u001b[39m\u001b[33;03m\"\"\"Sends a GET request. Returns :class:`Response` object.\u001b[39;00m\n\u001b[32m    595\u001b[39m \n\u001b[32m    596\u001b[39m \u001b[33;03m:param url: URL for the new :class:`Request` object.\u001b[39;00m\n\u001b[32m    597\u001b[39m \u001b[33;03m:param \\*\\*kwargs: Optional arguments that ``request`` takes.\u001b[39;00m\n\u001b[32m    598\u001b[39m \u001b[33;03m:rtype: requests.Response\u001b[39;00m\n\u001b[32m    599\u001b[39m \u001b[33;03m\"\"\"\u001b[39;00m\n\u001b[32m    601\u001b[39m kwargs.setdefault(\u001b[33m\"\u001b[39m\u001b[33mallow_redirects\u001b[39m\u001b[33m\"\u001b[39m, \u001b[38;5;28;01mTrue\u001b[39;00m)\n\u001b[32m--> \u001b[39m\u001b[32m602\u001b[39m \u001b[38;5;28;01mreturn\u001b[39;00m \u001b[38;5;28;43mself\u001b[39;49m\u001b[43m.\u001b[49m\u001b[43mrequest\u001b[49m\u001b[43m(\u001b[49m\u001b[33;43m\"\u001b[39;49m\u001b[33;43mGET\u001b[39;49m\u001b[33;43m\"\u001b[39;49m\u001b[43m,\u001b[49m\u001b[43m \u001b[49m\u001b[43murl\u001b[49m\u001b[43m,\u001b[49m\u001b[43m \u001b[49m\u001b[43m*\u001b[49m\u001b[43m*\u001b[49m\u001b[43mkwargs\u001b[49m\u001b[43m)\u001b[49m\n",
      "\u001b[36mFile \u001b[39m\u001b[32m~/Library/CloudStorage/OneDrive-Accenture/Development/QuantumPlayground/.venv/lib/python3.12/site-packages/qiskit_ibm_runtime/api/session.py:328\u001b[39m, in \u001b[36mRetrySession.request\u001b[39m\u001b[34m(self, method, url, bare, **kwargs)\u001b[39m\n\u001b[32m    326\u001b[39m \u001b[38;5;28;01mtry\u001b[39;00m:\n\u001b[32m    327\u001b[39m     \u001b[38;5;28mself\u001b[39m._log_request_info(final_url, method, kwargs)\n\u001b[32m--> \u001b[39m\u001b[32m328\u001b[39m     response = \u001b[38;5;28;43msuper\u001b[39;49m\u001b[43m(\u001b[49m\u001b[43m)\u001b[49m\u001b[43m.\u001b[49m\u001b[43mrequest\u001b[49m\u001b[43m(\u001b[49m\u001b[43mmethod\u001b[49m\u001b[43m,\u001b[49m\u001b[43m \u001b[49m\u001b[43mfinal_url\u001b[49m\u001b[43m,\u001b[49m\u001b[43m \u001b[49m\u001b[43mheaders\u001b[49m\u001b[43m=\u001b[49m\u001b[43mheaders\u001b[49m\u001b[43m,\u001b[49m\u001b[43m \u001b[49m\u001b[43m*\u001b[49m\u001b[43m*\u001b[49m\u001b[43mkwargs\u001b[49m\u001b[43m)\u001b[49m\n\u001b[32m    329\u001b[39m     response.raise_for_status()\n\u001b[32m    330\u001b[39m \u001b[38;5;28;01mexcept\u001b[39;00m RequestException \u001b[38;5;28;01mas\u001b[39;00m ex:\n\u001b[32m    331\u001b[39m     \u001b[38;5;66;03m# Wrap the requests exceptions into a IBM Q custom one, for\u001b[39;00m\n\u001b[32m    332\u001b[39m     \u001b[38;5;66;03m# compatibility.\u001b[39;00m\n",
      "\u001b[36mFile \u001b[39m\u001b[32m~/Library/CloudStorage/OneDrive-Accenture/Development/QuantumPlayground/.venv/lib/python3.12/site-packages/requests/sessions.py:589\u001b[39m, in \u001b[36mSession.request\u001b[39m\u001b[34m(self, method, url, params, data, headers, cookies, files, auth, timeout, allow_redirects, proxies, hooks, stream, verify, cert, json)\u001b[39m\n\u001b[32m    584\u001b[39m send_kwargs = {\n\u001b[32m    585\u001b[39m     \u001b[33m\"\u001b[39m\u001b[33mtimeout\u001b[39m\u001b[33m\"\u001b[39m: timeout,\n\u001b[32m    586\u001b[39m     \u001b[33m\"\u001b[39m\u001b[33mallow_redirects\u001b[39m\u001b[33m\"\u001b[39m: allow_redirects,\n\u001b[32m    587\u001b[39m }\n\u001b[32m    588\u001b[39m send_kwargs.update(settings)\n\u001b[32m--> \u001b[39m\u001b[32m589\u001b[39m resp = \u001b[38;5;28;43mself\u001b[39;49m\u001b[43m.\u001b[49m\u001b[43msend\u001b[49m\u001b[43m(\u001b[49m\u001b[43mprep\u001b[49m\u001b[43m,\u001b[49m\u001b[43m \u001b[49m\u001b[43m*\u001b[49m\u001b[43m*\u001b[49m\u001b[43msend_kwargs\u001b[49m\u001b[43m)\u001b[49m\n\u001b[32m    591\u001b[39m \u001b[38;5;28;01mreturn\u001b[39;00m resp\n",
      "\u001b[36mFile \u001b[39m\u001b[32m~/Library/CloudStorage/OneDrive-Accenture/Development/QuantumPlayground/.venv/lib/python3.12/site-packages/requests/sessions.py:703\u001b[39m, in \u001b[36mSession.send\u001b[39m\u001b[34m(self, request, **kwargs)\u001b[39m\n\u001b[32m    700\u001b[39m start = preferred_clock()\n\u001b[32m    702\u001b[39m \u001b[38;5;66;03m# Send the request\u001b[39;00m\n\u001b[32m--> \u001b[39m\u001b[32m703\u001b[39m r = \u001b[43madapter\u001b[49m\u001b[43m.\u001b[49m\u001b[43msend\u001b[49m\u001b[43m(\u001b[49m\u001b[43mrequest\u001b[49m\u001b[43m,\u001b[49m\u001b[43m \u001b[49m\u001b[43m*\u001b[49m\u001b[43m*\u001b[49m\u001b[43mkwargs\u001b[49m\u001b[43m)\u001b[49m\n\u001b[32m    705\u001b[39m \u001b[38;5;66;03m# Total elapsed time of the request (approximately)\u001b[39;00m\n\u001b[32m    706\u001b[39m elapsed = preferred_clock() - start\n",
      "\u001b[36mFile \u001b[39m\u001b[32m~/Library/CloudStorage/OneDrive-Accenture/Development/QuantumPlayground/.venv/lib/python3.12/site-packages/requests/adapters.py:644\u001b[39m, in \u001b[36mHTTPAdapter.send\u001b[39m\u001b[34m(self, request, stream, timeout, verify, cert, proxies)\u001b[39m\n\u001b[32m    641\u001b[39m     timeout = TimeoutSauce(connect=timeout, read=timeout)\n\u001b[32m    643\u001b[39m \u001b[38;5;28;01mtry\u001b[39;00m:\n\u001b[32m--> \u001b[39m\u001b[32m644\u001b[39m     resp = \u001b[43mconn\u001b[49m\u001b[43m.\u001b[49m\u001b[43murlopen\u001b[49m\u001b[43m(\u001b[49m\n\u001b[32m    645\u001b[39m \u001b[43m        \u001b[49m\u001b[43mmethod\u001b[49m\u001b[43m=\u001b[49m\u001b[43mrequest\u001b[49m\u001b[43m.\u001b[49m\u001b[43mmethod\u001b[49m\u001b[43m,\u001b[49m\n\u001b[32m    646\u001b[39m \u001b[43m        \u001b[49m\u001b[43murl\u001b[49m\u001b[43m=\u001b[49m\u001b[43murl\u001b[49m\u001b[43m,\u001b[49m\n\u001b[32m    647\u001b[39m \u001b[43m        \u001b[49m\u001b[43mbody\u001b[49m\u001b[43m=\u001b[49m\u001b[43mrequest\u001b[49m\u001b[43m.\u001b[49m\u001b[43mbody\u001b[49m\u001b[43m,\u001b[49m\n\u001b[32m    648\u001b[39m \u001b[43m        \u001b[49m\u001b[43mheaders\u001b[49m\u001b[43m=\u001b[49m\u001b[43mrequest\u001b[49m\u001b[43m.\u001b[49m\u001b[43mheaders\u001b[49m\u001b[43m,\u001b[49m\n\u001b[32m    649\u001b[39m \u001b[43m        \u001b[49m\u001b[43mredirect\u001b[49m\u001b[43m=\u001b[49m\u001b[38;5;28;43;01mFalse\u001b[39;49;00m\u001b[43m,\u001b[49m\n\u001b[32m    650\u001b[39m \u001b[43m        \u001b[49m\u001b[43massert_same_host\u001b[49m\u001b[43m=\u001b[49m\u001b[38;5;28;43;01mFalse\u001b[39;49;00m\u001b[43m,\u001b[49m\n\u001b[32m    651\u001b[39m \u001b[43m        \u001b[49m\u001b[43mpreload_content\u001b[49m\u001b[43m=\u001b[49m\u001b[38;5;28;43;01mFalse\u001b[39;49;00m\u001b[43m,\u001b[49m\n\u001b[32m    652\u001b[39m \u001b[43m        \u001b[49m\u001b[43mdecode_content\u001b[49m\u001b[43m=\u001b[49m\u001b[38;5;28;43;01mFalse\u001b[39;49;00m\u001b[43m,\u001b[49m\n\u001b[32m    653\u001b[39m \u001b[43m        \u001b[49m\u001b[43mretries\u001b[49m\u001b[43m=\u001b[49m\u001b[38;5;28;43mself\u001b[39;49m\u001b[43m.\u001b[49m\u001b[43mmax_retries\u001b[49m\u001b[43m,\u001b[49m\n\u001b[32m    654\u001b[39m \u001b[43m        \u001b[49m\u001b[43mtimeout\u001b[49m\u001b[43m=\u001b[49m\u001b[43mtimeout\u001b[49m\u001b[43m,\u001b[49m\n\u001b[32m    655\u001b[39m \u001b[43m        \u001b[49m\u001b[43mchunked\u001b[49m\u001b[43m=\u001b[49m\u001b[43mchunked\u001b[49m\u001b[43m,\u001b[49m\n\u001b[32m    656\u001b[39m \u001b[43m    \u001b[49m\u001b[43m)\u001b[49m\n\u001b[32m    658\u001b[39m \u001b[38;5;28;01mexcept\u001b[39;00m (ProtocolError, \u001b[38;5;167;01mOSError\u001b[39;00m) \u001b[38;5;28;01mas\u001b[39;00m err:\n\u001b[32m    659\u001b[39m     \u001b[38;5;28;01mraise\u001b[39;00m \u001b[38;5;167;01mConnectionError\u001b[39;00m(err, request=request)\n",
      "\u001b[36mFile \u001b[39m\u001b[32m~/Library/CloudStorage/OneDrive-Accenture/Development/QuantumPlayground/.venv/lib/python3.12/site-packages/urllib3/connectionpool.py:787\u001b[39m, in \u001b[36mHTTPConnectionPool.urlopen\u001b[39m\u001b[34m(self, method, url, body, headers, retries, redirect, assert_same_host, timeout, pool_timeout, release_conn, chunked, body_pos, preload_content, decode_content, **response_kw)\u001b[39m\n\u001b[32m    784\u001b[39m response_conn = conn \u001b[38;5;28;01mif\u001b[39;00m \u001b[38;5;129;01mnot\u001b[39;00m release_conn \u001b[38;5;28;01melse\u001b[39;00m \u001b[38;5;28;01mNone\u001b[39;00m\n\u001b[32m    786\u001b[39m \u001b[38;5;66;03m# Make the request on the HTTPConnection object\u001b[39;00m\n\u001b[32m--> \u001b[39m\u001b[32m787\u001b[39m response = \u001b[38;5;28;43mself\u001b[39;49m\u001b[43m.\u001b[49m\u001b[43m_make_request\u001b[49m\u001b[43m(\u001b[49m\n\u001b[32m    788\u001b[39m \u001b[43m    \u001b[49m\u001b[43mconn\u001b[49m\u001b[43m,\u001b[49m\n\u001b[32m    789\u001b[39m \u001b[43m    \u001b[49m\u001b[43mmethod\u001b[49m\u001b[43m,\u001b[49m\n\u001b[32m    790\u001b[39m \u001b[43m    \u001b[49m\u001b[43murl\u001b[49m\u001b[43m,\u001b[49m\n\u001b[32m    791\u001b[39m \u001b[43m    \u001b[49m\u001b[43mtimeout\u001b[49m\u001b[43m=\u001b[49m\u001b[43mtimeout_obj\u001b[49m\u001b[43m,\u001b[49m\n\u001b[32m    792\u001b[39m \u001b[43m    \u001b[49m\u001b[43mbody\u001b[49m\u001b[43m=\u001b[49m\u001b[43mbody\u001b[49m\u001b[43m,\u001b[49m\n\u001b[32m    793\u001b[39m \u001b[43m    \u001b[49m\u001b[43mheaders\u001b[49m\u001b[43m=\u001b[49m\u001b[43mheaders\u001b[49m\u001b[43m,\u001b[49m\n\u001b[32m    794\u001b[39m \u001b[43m    \u001b[49m\u001b[43mchunked\u001b[49m\u001b[43m=\u001b[49m\u001b[43mchunked\u001b[49m\u001b[43m,\u001b[49m\n\u001b[32m    795\u001b[39m \u001b[43m    \u001b[49m\u001b[43mretries\u001b[49m\u001b[43m=\u001b[49m\u001b[43mretries\u001b[49m\u001b[43m,\u001b[49m\n\u001b[32m    796\u001b[39m \u001b[43m    \u001b[49m\u001b[43mresponse_conn\u001b[49m\u001b[43m=\u001b[49m\u001b[43mresponse_conn\u001b[49m\u001b[43m,\u001b[49m\n\u001b[32m    797\u001b[39m \u001b[43m    \u001b[49m\u001b[43mpreload_content\u001b[49m\u001b[43m=\u001b[49m\u001b[43mpreload_content\u001b[49m\u001b[43m,\u001b[49m\n\u001b[32m    798\u001b[39m \u001b[43m    \u001b[49m\u001b[43mdecode_content\u001b[49m\u001b[43m=\u001b[49m\u001b[43mdecode_content\u001b[49m\u001b[43m,\u001b[49m\n\u001b[32m    799\u001b[39m \u001b[43m    \u001b[49m\u001b[43m*\u001b[49m\u001b[43m*\u001b[49m\u001b[43mresponse_kw\u001b[49m\u001b[43m,\u001b[49m\n\u001b[32m    800\u001b[39m \u001b[43m\u001b[49m\u001b[43m)\u001b[49m\n\u001b[32m    802\u001b[39m \u001b[38;5;66;03m# Everything went great!\u001b[39;00m\n\u001b[32m    803\u001b[39m clean_exit = \u001b[38;5;28;01mTrue\u001b[39;00m\n",
      "\u001b[36mFile \u001b[39m\u001b[32m~/Library/CloudStorage/OneDrive-Accenture/Development/QuantumPlayground/.venv/lib/python3.12/site-packages/urllib3/connectionpool.py:534\u001b[39m, in \u001b[36mHTTPConnectionPool._make_request\u001b[39m\u001b[34m(self, conn, method, url, body, headers, retries, timeout, chunked, response_conn, preload_content, decode_content, enforce_content_length)\u001b[39m\n\u001b[32m    532\u001b[39m \u001b[38;5;66;03m# Receive the response from the server\u001b[39;00m\n\u001b[32m    533\u001b[39m \u001b[38;5;28;01mtry\u001b[39;00m:\n\u001b[32m--> \u001b[39m\u001b[32m534\u001b[39m     response = \u001b[43mconn\u001b[49m\u001b[43m.\u001b[49m\u001b[43mgetresponse\u001b[49m\u001b[43m(\u001b[49m\u001b[43m)\u001b[49m\n\u001b[32m    535\u001b[39m \u001b[38;5;28;01mexcept\u001b[39;00m (BaseSSLError, \u001b[38;5;167;01mOSError\u001b[39;00m) \u001b[38;5;28;01mas\u001b[39;00m e:\n\u001b[32m    536\u001b[39m     \u001b[38;5;28mself\u001b[39m._raise_timeout(err=e, url=url, timeout_value=read_timeout)\n",
      "\u001b[36mFile \u001b[39m\u001b[32m~/Library/CloudStorage/OneDrive-Accenture/Development/QuantumPlayground/.venv/lib/python3.12/site-packages/urllib3/connection.py:565\u001b[39m, in \u001b[36mHTTPConnection.getresponse\u001b[39m\u001b[34m(self)\u001b[39m\n\u001b[32m    562\u001b[39m _shutdown = \u001b[38;5;28mgetattr\u001b[39m(\u001b[38;5;28mself\u001b[39m.sock, \u001b[33m\"\u001b[39m\u001b[33mshutdown\u001b[39m\u001b[33m\"\u001b[39m, \u001b[38;5;28;01mNone\u001b[39;00m)\n\u001b[32m    564\u001b[39m \u001b[38;5;66;03m# Get the response from http.client.HTTPConnection\u001b[39;00m\n\u001b[32m--> \u001b[39m\u001b[32m565\u001b[39m httplib_response = \u001b[38;5;28;43msuper\u001b[39;49m\u001b[43m(\u001b[49m\u001b[43m)\u001b[49m\u001b[43m.\u001b[49m\u001b[43mgetresponse\u001b[49m\u001b[43m(\u001b[49m\u001b[43m)\u001b[49m\n\u001b[32m    567\u001b[39m \u001b[38;5;28;01mtry\u001b[39;00m:\n\u001b[32m    568\u001b[39m     assert_header_parsing(httplib_response.msg)\n",
      "\u001b[36mFile \u001b[39m\u001b[32m/opt/homebrew/Cellar/python@3.12/3.12.10_1/Frameworks/Python.framework/Versions/3.12/lib/python3.12/http/client.py:1430\u001b[39m, in \u001b[36mHTTPConnection.getresponse\u001b[39m\u001b[34m(self)\u001b[39m\n\u001b[32m   1428\u001b[39m \u001b[38;5;28;01mtry\u001b[39;00m:\n\u001b[32m   1429\u001b[39m     \u001b[38;5;28;01mtry\u001b[39;00m:\n\u001b[32m-> \u001b[39m\u001b[32m1430\u001b[39m         \u001b[43mresponse\u001b[49m\u001b[43m.\u001b[49m\u001b[43mbegin\u001b[49m\u001b[43m(\u001b[49m\u001b[43m)\u001b[49m\n\u001b[32m   1431\u001b[39m     \u001b[38;5;28;01mexcept\u001b[39;00m \u001b[38;5;167;01mConnectionError\u001b[39;00m:\n\u001b[32m   1432\u001b[39m         \u001b[38;5;28mself\u001b[39m.close()\n",
      "\u001b[36mFile \u001b[39m\u001b[32m/opt/homebrew/Cellar/python@3.12/3.12.10_1/Frameworks/Python.framework/Versions/3.12/lib/python3.12/http/client.py:331\u001b[39m, in \u001b[36mHTTPResponse.begin\u001b[39m\u001b[34m(self)\u001b[39m\n\u001b[32m    329\u001b[39m \u001b[38;5;66;03m# read until we get a non-100 response\u001b[39;00m\n\u001b[32m    330\u001b[39m \u001b[38;5;28;01mwhile\u001b[39;00m \u001b[38;5;28;01mTrue\u001b[39;00m:\n\u001b[32m--> \u001b[39m\u001b[32m331\u001b[39m     version, status, reason = \u001b[38;5;28;43mself\u001b[39;49m\u001b[43m.\u001b[49m\u001b[43m_read_status\u001b[49m\u001b[43m(\u001b[49m\u001b[43m)\u001b[49m\n\u001b[32m    332\u001b[39m     \u001b[38;5;28;01mif\u001b[39;00m status != CONTINUE:\n\u001b[32m    333\u001b[39m         \u001b[38;5;28;01mbreak\u001b[39;00m\n",
      "\u001b[36mFile \u001b[39m\u001b[32m/opt/homebrew/Cellar/python@3.12/3.12.10_1/Frameworks/Python.framework/Versions/3.12/lib/python3.12/http/client.py:292\u001b[39m, in \u001b[36mHTTPResponse._read_status\u001b[39m\u001b[34m(self)\u001b[39m\n\u001b[32m    291\u001b[39m \u001b[38;5;28;01mdef\u001b[39;00m\u001b[38;5;250m \u001b[39m\u001b[34m_read_status\u001b[39m(\u001b[38;5;28mself\u001b[39m):\n\u001b[32m--> \u001b[39m\u001b[32m292\u001b[39m     line = \u001b[38;5;28mstr\u001b[39m(\u001b[38;5;28;43mself\u001b[39;49m\u001b[43m.\u001b[49m\u001b[43mfp\u001b[49m\u001b[43m.\u001b[49m\u001b[43mreadline\u001b[49m\u001b[43m(\u001b[49m\u001b[43m_MAXLINE\u001b[49m\u001b[43m \u001b[49m\u001b[43m+\u001b[49m\u001b[43m \u001b[49m\u001b[32;43m1\u001b[39;49m\u001b[43m)\u001b[49m, \u001b[33m\"\u001b[39m\u001b[33miso-8859-1\u001b[39m\u001b[33m\"\u001b[39m)\n\u001b[32m    293\u001b[39m     \u001b[38;5;28;01mif\u001b[39;00m \u001b[38;5;28mlen\u001b[39m(line) > _MAXLINE:\n\u001b[32m    294\u001b[39m         \u001b[38;5;28;01mraise\u001b[39;00m LineTooLong(\u001b[33m\"\u001b[39m\u001b[33mstatus line\u001b[39m\u001b[33m\"\u001b[39m)\n",
      "\u001b[36mFile \u001b[39m\u001b[32m/opt/homebrew/Cellar/python@3.12/3.12.10_1/Frameworks/Python.framework/Versions/3.12/lib/python3.12/socket.py:720\u001b[39m, in \u001b[36mSocketIO.readinto\u001b[39m\u001b[34m(self, b)\u001b[39m\n\u001b[32m    718\u001b[39m \u001b[38;5;28;01mwhile\u001b[39;00m \u001b[38;5;28;01mTrue\u001b[39;00m:\n\u001b[32m    719\u001b[39m     \u001b[38;5;28;01mtry\u001b[39;00m:\n\u001b[32m--> \u001b[39m\u001b[32m720\u001b[39m         \u001b[38;5;28;01mreturn\u001b[39;00m \u001b[38;5;28;43mself\u001b[39;49m\u001b[43m.\u001b[49m\u001b[43m_sock\u001b[49m\u001b[43m.\u001b[49m\u001b[43mrecv_into\u001b[49m\u001b[43m(\u001b[49m\u001b[43mb\u001b[49m\u001b[43m)\u001b[49m\n\u001b[32m    721\u001b[39m     \u001b[38;5;28;01mexcept\u001b[39;00m timeout:\n\u001b[32m    722\u001b[39m         \u001b[38;5;28mself\u001b[39m._timeout_occurred = \u001b[38;5;28;01mTrue\u001b[39;00m\n",
      "\u001b[36mFile \u001b[39m\u001b[32m/opt/homebrew/Cellar/python@3.12/3.12.10_1/Frameworks/Python.framework/Versions/3.12/lib/python3.12/ssl.py:1251\u001b[39m, in \u001b[36mSSLSocket.recv_into\u001b[39m\u001b[34m(self, buffer, nbytes, flags)\u001b[39m\n\u001b[32m   1247\u001b[39m     \u001b[38;5;28;01mif\u001b[39;00m flags != \u001b[32m0\u001b[39m:\n\u001b[32m   1248\u001b[39m         \u001b[38;5;28;01mraise\u001b[39;00m \u001b[38;5;167;01mValueError\u001b[39;00m(\n\u001b[32m   1249\u001b[39m           \u001b[33m\"\u001b[39m\u001b[33mnon-zero flags not allowed in calls to recv_into() on \u001b[39m\u001b[38;5;132;01m%s\u001b[39;00m\u001b[33m\"\u001b[39m %\n\u001b[32m   1250\u001b[39m           \u001b[38;5;28mself\u001b[39m.\u001b[34m__class__\u001b[39m)\n\u001b[32m-> \u001b[39m\u001b[32m1251\u001b[39m     \u001b[38;5;28;01mreturn\u001b[39;00m \u001b[38;5;28;43mself\u001b[39;49m\u001b[43m.\u001b[49m\u001b[43mread\u001b[49m\u001b[43m(\u001b[49m\u001b[43mnbytes\u001b[49m\u001b[43m,\u001b[49m\u001b[43m \u001b[49m\u001b[43mbuffer\u001b[49m\u001b[43m)\u001b[49m\n\u001b[32m   1252\u001b[39m \u001b[38;5;28;01melse\u001b[39;00m:\n\u001b[32m   1253\u001b[39m     \u001b[38;5;28;01mreturn\u001b[39;00m \u001b[38;5;28msuper\u001b[39m().recv_into(buffer, nbytes, flags)\n",
      "\u001b[36mFile \u001b[39m\u001b[32m/opt/homebrew/Cellar/python@3.12/3.12.10_1/Frameworks/Python.framework/Versions/3.12/lib/python3.12/ssl.py:1103\u001b[39m, in \u001b[36mSSLSocket.read\u001b[39m\u001b[34m(self, len, buffer)\u001b[39m\n\u001b[32m   1101\u001b[39m \u001b[38;5;28;01mtry\u001b[39;00m:\n\u001b[32m   1102\u001b[39m     \u001b[38;5;28;01mif\u001b[39;00m buffer \u001b[38;5;129;01mis\u001b[39;00m \u001b[38;5;129;01mnot\u001b[39;00m \u001b[38;5;28;01mNone\u001b[39;00m:\n\u001b[32m-> \u001b[39m\u001b[32m1103\u001b[39m         \u001b[38;5;28;01mreturn\u001b[39;00m \u001b[38;5;28;43mself\u001b[39;49m\u001b[43m.\u001b[49m\u001b[43m_sslobj\u001b[49m\u001b[43m.\u001b[49m\u001b[43mread\u001b[49m\u001b[43m(\u001b[49m\u001b[38;5;28;43mlen\u001b[39;49m\u001b[43m,\u001b[49m\u001b[43m \u001b[49m\u001b[43mbuffer\u001b[49m\u001b[43m)\u001b[49m\n\u001b[32m   1104\u001b[39m     \u001b[38;5;28;01melse\u001b[39;00m:\n\u001b[32m   1105\u001b[39m         \u001b[38;5;28;01mreturn\u001b[39;00m \u001b[38;5;28mself\u001b[39m._sslobj.read(\u001b[38;5;28mlen\u001b[39m)\n",
      "\u001b[31mKeyboardInterrupt\u001b[39m: "
     ]
    }
   ],
   "source": [
    "job = estimator.run([(transpiled_qc, mapped_observables)])\n",
    "job_id = job.job_id\n",
    "print(f\"Save this Job ID: {job_id}\")\n",
    "\n",
    "result = job.result()"
   ]
  },
  {
   "cell_type": "code",
   "execution_count": null,
   "id": "e64d2059",
   "metadata": {},
   "outputs": [
    {
     "name": "stdout",
     "output_type": "stream",
     "text": [
      "PrimitiveResult([PubResult(data=DataBin(evs=np.ndarray(<shape=(6,), dtype=float64>), stds=np.ndarray(<shape=(6,), dtype=float64>), ensemble_standard_error=np.ndarray(<shape=(6,), dtype=float64>), shape=(6,)), metadata={'shots': 5024, 'target_precision': 0.01414213562373095, 'circuit_metadata': {}, 'resilience': {}, 'num_randomizations': 32})], metadata={'dynamical_decoupling': {'enable': False, 'sequence_type': 'XX', 'extra_slack_distribution': 'middle', 'scheduling_method': 'alap'}, 'twirling': {'enable_gates': False, 'enable_measure': True, 'num_randomizations': 'auto', 'shots_per_randomization': 'auto', 'interleave_randomizations': True, 'strategy': 'active-accum'}, 'resilience': {'measure_mitigation': True, 'zne_mitigation': False, 'pec_mitigation': False}, 'version': 2})\n",
      "=== JOB RESULT BREAKDOWN ===\n",
      "Number of PUB results: 1\n",
      "\n",
      "--- PUB Result 0 ---\n",
      "Data type: <class 'qiskit.primitives.containers.data_bin.DataBin'>\n",
      "\n",
      "Expectation Values: [ 0.07184771 -0.00316975  0.06233061 -0.01076212  1.09107676  1.05158343]\n",
      "  Shape: (6,)\n",
      "  Values: [np.float64(0.0718477115773334), np.float64(-0.003169751981352943), np.float64(0.06233061025195255), np.float64(-0.010762119755732814), np.float64(1.091076758356095), np.float64(1.0515834343097101)]\n",
      "\n",
      "Standard Deviations: [0.01922598 0.01599666 0.01583111 0.01504723 0.01696051 0.01554885]\n",
      "  Shape: (6,)\n",
      "  Values: [np.float64(0.019225979410418023), np.float64(0.015996659300565732), np.float64(0.015831109024267036), np.float64(0.01504723436557321), np.float64(0.016960513214479483), np.float64(0.015548846009530947)]\n",
      "\n",
      "Ensemble Standard Error: [0.01869846 0.01872267 0.01586876 0.01589141 0.01558117 0.01601676]\n",
      "  Values: [np.float64(0.018698462824093164), np.float64(0.018722668895907426), np.float64(0.015868759780260224), np.float64(0.015891408550797424), np.float64(0.015581172591190202), np.float64(0.016016764416258007)]\n",
      "\n",
      "📊 PUB Metadata:\n",
      "  shots: 5024\n",
      "  target_precision: 0.01414213562373095\n",
      "  circuit_metadata:\n",
      "  resilience:\n",
      "  num_randomizations: 32\n",
      "\n",
      "🔧 Overall Job Metadata:\n",
      "  dynamical_decoupling:\n",
      "    enable: False\n",
      "    sequence_type: XX\n",
      "    extra_slack_distribution: middle\n",
      "    scheduling_method: alap\n",
      "  twirling:\n",
      "    enable_gates: False\n",
      "    enable_measure: True\n",
      "    num_randomizations: auto\n",
      "    shots_per_randomization: auto\n",
      "    interleave_randomizations: True\n",
      "    strategy: active-accum\n",
      "  resilience:\n",
      "    measure_mitigation: True\n",
      "    zne_mitigation: False\n",
      "    pec_mitigation: False\n",
      "  version: 2\n"
     ]
    }
   ],
   "source": [
    "job = service.job(\"d3d1pf6dacis73dbdv50\")  # Retrieve by ID\n",
    "if job.done():\n",
    "    result = job.result()\n",
    "\n",
    "    print(result)\n",
    "    \n",
    "    # Format the result in a hierarchical way\n",
    "    print(\"=== JOB RESULT BREAKDOWN ===\")\n",
    "    print(f\"Number of PUB results: {len(result)}\")\n",
    "    \n",
    "    for i, pub_result in enumerate(result):\n",
    "        print(f\"\\n--- PUB Result {i} ---\")\n",
    "        print(f\"Data type: {type(pub_result.data)}\")\n",
    "        \n",
    "        # Print actual data values\n",
    "        if hasattr(pub_result.data, 'evs'):\n",
    "            print(f\"\\nExpectation Values: {pub_result.data.evs}\")\n",
    "            print(f\"  Shape: {pub_result.data.evs.shape}\")\n",
    "            print(f\"  Values: {list(pub_result.data.evs)}\")\n",
    "            \n",
    "        if hasattr(pub_result.data, 'stds'):\n",
    "            print(f\"\\nStandard Deviations: {pub_result.data.stds}\")\n",
    "            print(f\"  Shape: {pub_result.data.stds.shape}\")\n",
    "            print(f\"  Values: {list(pub_result.data.stds)}\")\n",
    "            \n",
    "        if hasattr(pub_result.data, 'ensemble_standard_error'):\n",
    "            print(f\"\\nEnsemble Standard Error: {pub_result.data.ensemble_standard_error}\")\n",
    "            print(f\"  Values: {list(pub_result.data.ensemble_standard_error)}\")\n",
    "        \n",
    "        # Print metadata in a structured way\n",
    "        if hasattr(pub_result, 'metadata') and pub_result.metadata:\n",
    "            print(f\"\\n📊 PUB Metadata:\")\n",
    "            metadata = pub_result.metadata\n",
    "            \n",
    "            for key, value in metadata.items():\n",
    "                if isinstance(value, dict):\n",
    "                    print(f\"  {key}:\")\n",
    "                    for sub_key, sub_value in value.items():\n",
    "                        print(f\"    {sub_key}: {sub_value}\")\n",
    "                else:\n",
    "                    print(f\"  {key}: {value}\")\n",
    "    \n",
    "    # Print overall job metadata\n",
    "    print(f\"\\n🔧 Overall Job Metadata:\")\n",
    "    job_metadata = result.metadata\n",
    "    for key, value in job_metadata.items():\n",
    "        if isinstance(value, dict):\n",
    "            print(f\"  {key}:\")\n",
    "            for sub_key, sub_value in value.items():\n",
    "                if isinstance(sub_value, dict):\n",
    "                    print(f\"    {sub_key}:\")\n",
    "                    for sub_sub_key, sub_sub_value in sub_value.items():\n",
    "                        print(f\"      {sub_sub_key}: {sub_sub_value}\")\n",
    "                else:\n",
    "                    print(f\"    {sub_key}: {sub_value}\")\n",
    "        else:\n",
    "            print(f\"  {key}: {value}\")\n",
    "            \n",
    "else:\n",
    "    print(f\"Job still running. Status: {job.status()}\")\n",
    "    if hasattr(job, 'queue_info'):\n",
    "        print(f\"Queue position: {job.queue_info().position}\")"
   ]
  },
  {
   "cell_type": "markdown",
   "id": "86d9a1b5",
   "metadata": {},
   "source": [
    "### Breaking down the job result\n",
    "\n",
    "Looking at the returned object, we can see that under the PUB (Primitive Unified Block) Result:\n",
    "\n",
    "In the DataBin, we see the following metrics:\n",
    "\n",
    "**Expectation Values:** As previously discussed, the observed mean against each of the target observables\n",
    "**Standard Deviation:** The spread of measurements across all the individual shots for each observable giving you shot to shot noise\n",
    "**Ensemble Standard Error:** The uncertainty of each mean across circuit randomisations. Doing this gives you a flavour of the systematic errors in the hardware and tells you how much your averaged expectation value might shift due to the randomisation protocol itself *(more on this below)*.\n",
    "\n",
    "\n",
    "# 🧠 IBM Qiskit Runtime Metadata Breakdown\n",
    "\n",
    "## 📊 PUB Metadata\n",
    "\n",
    "| Field | Description |\n",
    "|-------|-------------|\n",
    "| `shots` | **5024** total circuit executions (samples) to gather statistics. |\n",
    "| `target_precision` | **0.0141** — desired standard error threshold (≈ √(1/N) for N=5000). |\n",
    "| `circuit_metadata` | Placeholder for circuit-specific info (e.g., gates, depth, qubit count). |\n",
    "| `resilience` | Indicates error mitigation strategies are applied. |\n",
    "| `num_randomizations` | **32** randomized circuit instances used for noise tailoring. |\n",
    "\n",
    "---\n",
    "\n",
    "## 🔧 Overall Job Metadata\n",
    "\n",
    "### 🧬 Dynamical Decoupling\n",
    "\n",
    "| Field | Description |\n",
    "|-------|-------------|\n",
    "| `enable` | **False** — no pulse-level noise suppression during idle periods. |\n",
    "| `sequence_type` | **XX** — would use XX pulses if enabled. |\n",
    "| `extra_slack_distribution` | **middle** — slack time would be centered between pulses. |\n",
    "| `scheduling_method` | **alap** — \"As Late As Possible\" scheduling to reduce idle decoherence. |\n",
    "\n",
    "---\n",
    "\n",
    "### 🌀 Twirling (Noise Tailoring)\n",
    "\n",
    "| Field | Description |\n",
    "|-------|-------------|\n",
    "| `enable_gates` | **False** — no gate-level Pauli twirling. |\n",
    "| `enable_measure` | **True** — measurement twirling is active to symmetrize readout noise. |\n",
    "| `num_randomizations` | **auto** — resolved to 32 based on backend and precision goals. |\n",
    "| `shots_per_randomization` | **auto** — shots distributed across randomizations. |\n",
    "| `interleave_randomizations` | **True** — randomizations are interleaved to reduce drift. |\n",
    "| `strategy` | **active-accum** — twirls all qubits used up to each layer. |\n",
    "\n",
    "**Twirling Strategy Options:**\n",
    "- `active`: twirl only current layer’s qubits.\n",
    "- `active-accum`: twirl all qubits used so far.\n",
    "- `active-circuit`: twirl all qubits used anywhere in the circuit.\n",
    "- `all`: twirl every qubit in every layer.\n",
    "\n",
    "---\n",
    "\n",
    "### 🛡️ Resilience (Error Mitigation)\n",
    "\n",
    "| Field | Description |\n",
    "|-------|-------------|\n",
    "| `measure_mitigation` | **True** — readout error mitigation applied. |\n",
    "| `zne_mitigation` | **False** — zero-noise extrapolation disabled. |\n",
    "| `pec_mitigation` | **False** — probabilistic error cancellation disabled. |\n",
    "\n",
    "---\n",
    "\n",
    "### 📦 Versioning\n",
    "\n",
    "| Field | Description |\n",
    "|-------|-------------|\n",
    "| `version` | **2** — protocol version used for reproducibility and debugging. |\n",
    "\n",
    "\n",
    "\n"
   ]
  },
  {
   "cell_type": "markdown",
   "id": "90dea2e9",
   "metadata": {},
   "source": [
    "### The randomisation protocol (Twirling)\n",
    "\n",
    "Part of IBM's quantum error mitigation, twirling is used to tailor noise and improve measurement accuracy.\n",
    "\n"
   ]
  },
  {
   "cell_type": "markdown",
   "id": "9f153a76",
   "metadata": {},
   "source": [
    "### Plotting the result"
   ]
  },
  {
   "cell_type": "code",
   "execution_count": null,
   "id": "905c8f27",
   "metadata": {},
   "outputs": [
    {
     "data": {
      "image/png": "[encoded data removed]",
      "text/plain": [
       "<Figure size 640x480 with 1 Axes>"
      ]
     },
     "metadata": {},
     "output_type": "display_data"
    }
   ],
   "source": [
    "from matplotlib import pyplot as plt\n",
    "\n",
    "pub_result = job.result()[0]\n",
    "\n",
    "values = pub_result.data.evs\n",
    "errors = pub_result.data.stds\n",
    "\n",
    "observables_labels = [\"IZ\", \"IX\", \"ZI\", \"XI\", \"ZZ\", \"XX\"]\n",
    "\n",
    "# plotting graph with error bars\n",
    "plt.errorbar(observables_labels, values, yerr=errors, fmt=\"-o\", capsize=3, capthick=1)\n",
    "plt.xlabel(\"Observables\")\n",
    "plt.ylabel(\"Values\")\n",
    "plt.title(\"Bell State Expectation Values with Error Bars\")\n",
    "plt.grid(True, alpha=0.3)\n",
    "plt.show()"
   ]
  },
  {
   "cell_type": "markdown",
   "id": "950c5b36",
   "metadata": {},
   "source": [
    "### So what?\n",
    "\n",
    "Now you may be asking, alright it looks like a Brachiosaurus, so why do we care?\n",
    "\n",
    "Well the long story short, is that the expectation values of around 1 at ZZ, and XX, demonstrate that the two qubit states are quantum entangled. Since ZZ measures the correlation between the Z axis, therefore, both qubits are aligned in Z.\n",
    "\n",
    "Additionally, we see a low standard error indicating confidence. \n"
   ]
  },
  {
   "cell_type": "markdown",
   "id": "e078d0ae",
   "metadata": {},
   "source": [
    "### Exploring The Sampler\n",
    "\n",
    "This requires a few considerations:\n",
    "\n",
    "1. We we begin by copying the QC, as it's time to butcher it. \n",
    "2. So rather than creating and mapping observabel, we need to prepare a Classical Register. A collection of classical bits used to sure the measurement outcomes from qubits. 2 = number of classical bits, c = register label.\n",
    "3. We then apply this register to the quantum circuit. And set measurement operations for all qubits.\n",
    "4. Like Estimator, we then set up the Runtime with the backend, and define the number of shots.\n",
    "\n",
    "\n"
   ]
  },
  {
   "cell_type": "code",
   "execution_count": 10,
   "id": "2b8529d1",
   "metadata": {},
   "outputs": [
    {
     "name": "stdout",
     "output_type": "stream",
     "text": [
      "Circuit with measurements:\n",
      "Figure(925.052x284.278)\n",
      "Sampling Job ID: <bound method BasePrimitiveJob.job_id of <RuntimeJobV2('d3i25v1i8kms738u2aa0', 'sampler')>>\n"
     ]
    }
   ],
   "source": [
    "from qiskit_ibm_runtime import Sampler\n",
    "from qiskit import ClassicalRegister\n",
    "import matplotlib.pyplot as plt\n",
    "\n",
    "# Create a copy of the transpiled circuit for measurement\n",
    "measured_qc = transpiled_qc.copy()\n",
    "\n",
    "# Add classical register to store measurement results\n",
    "creg = ClassicalRegister(2, 'c')\n",
    "measured_qc.add_register(creg)\n",
    "\n",
    "# Add measurements to all qubits\n",
    "measured_qc.measure([0, 1], [creg[0], creg[1]])\n",
    "\n",
    "print(\"Circuit with measurements:\")\n",
    "print(measured_qc.draw(output=\"mpl\", filename=\"measured_circuit.png\"))\n",
    "\n",
    "# Set up the sampler primitive\n",
    "sampler = Sampler(mode=backend)\n",
    "sampler.options.default_shots = 5000\n",
    "\n",
    "# Run the sampling job\n",
    "job = sampler.run([measured_qc])\n",
    "\n",
    "print (f\"Sampling Job ID: {job.job_id}\")\n"
   ]
  },
  {
   "cell_type": "markdown",
   "id": "faabc853",
   "metadata": {},
   "source": [
    "That ASCII output is the transpiled circuit with measurements. q_0 and q_1 show the actual gates you built; the many ancilla_* lines are physical qubits on the backend (mapped by the transpiler) that are unused but present in the mapped circuit. The \"meas: 133\" row is a classical register of length 133 (one classical bit per physical qubit) because measure_all() added measurements for every physical qubit. \"global phase: 3π/4\" is a global phase (does not affect measurement probabilities)."
   ]
  },
  {
   "cell_type": "code",
   "execution_count": null,
   "id": "ecc3ecc3",
   "metadata": {},
   "outputs": [
    {
     "name": "stdout",
     "output_type": "stream",
     "text": [
      "\n",
      "Measurement counts: {'00': 2302, '11': 1977, '01': 265, '10': 456}\n",
      "Probabilities: {'00': 0.4604, '11': 0.3954, '01': 0.053, '10': 0.0912}\n"
     ]
    },
    {
     "data": {
      "image/png": "[encoded data removed]",
      "text/plain": [
       "<Figure size 1000x600 with 2 Axes>"
      ]
     },
     "metadata": {},
     "output_type": "display_data"
    },
    {
     "name": "stdout",
     "output_type": "stream",
     "text": [
      "\n",
      "=== Bell State Analysis ===\n",
      "Expected for perfect Bell state |β₀₀⟩ = (|00⟩ + |11⟩)/√2:\n",
      "- |00⟩: ~50%\n",
      "- |11⟩: ~50%\n",
      "- |01⟩ and |10⟩: ~0%\n",
      "\n",
      "Actual results:\n",
      "- |00⟩: 46.0%\n",
      "- |11⟩: 39.5%\n",
      "- |01⟩: 5.3%\n",
      "- |10⟩: 9.1%\n",
      "\n",
      "Bell state fidelity: 85.6%\n"
     ]
    }
   ],
   "source": [
    "job = service.job(\"d3euj4hi8kms738r2gj0\") \n",
    "result = job.result()\n",
    "# Get the measurement counts\n",
    "pub_result = result[0]\n",
    "counts = pub_result.data.c.get_counts()\n",
    "\n",
    "print(f\"\\nMeasurement counts: {counts}\")\n",
    "\n",
    "# Calculate probabilities\n",
    "total_shots = sum(counts.values())\n",
    "probabilities = {state: count/total_shots for state, count in counts.items()}\n",
    "\n",
    "print(f\"Probabilities: {probabilities}\")\n",
    "\n",
    "# Plot the results\n",
    "states = list(counts.keys())\n",
    "count_values = list(counts.values())\n",
    "\n",
    "plt.figure(figsize=(10, 6))\n",
    "\n",
    "# Bar plot of counts\n",
    "plt.subplot(1, 2, 1)\n",
    "plt.bar(states, count_values)\n",
    "plt.xlabel('Quantum States')\n",
    "plt.ylabel('Measurement Counts')\n",
    "plt.title(f'Bell State Measurements\\n(Total shots: {total_shots})')\n",
    "\n",
    "# Bar plot of probabilities\n",
    "plt.subplot(1, 2, 2)\n",
    "prob_values = list(probabilities.values())\n",
    "plt.bar(states, prob_values)\n",
    "plt.xlabel('Quantum States')\n",
    "plt.ylabel('Probability')\n",
    "plt.title('Bell State Probabilities')\n",
    "plt.ylim(0, 1)\n",
    "\n",
    "plt.tight_layout()\n",
    "plt.show()\n",
    "\n",
    "# Analyze the Bell state\n",
    "print(\"\\n=== Bell State Analysis ===\")\n",
    "print(f\"Expected for perfect Bell state |β₀₀⟩ = (|00⟩ + |11⟩)/√2:\")\n",
    "print(\"- |00⟩: ~50%\")\n",
    "print(\"- |11⟩: ~50%\")\n",
    "print(\"- |01⟩ and |10⟩: ~0%\")\n",
    "print(f\"\\nActual results:\")\n",
    "for state, prob in probabilities.items():\n",
    "    print(f\"- |{state}⟩: {prob:.1%}\")\n",
    "\n",
    "# Calculate entanglement fidelity\n",
    "expected_states = ['00', '11']\n",
    "measured_fidelity = sum(probabilities.get(state, 0) for state in expected_states)\n",
    "print(f\"\\nBell state fidelity: {measured_fidelity:.1%}\")"
   ]
  },
  {
   "cell_type": "markdown",
   "id": "9ab3a5f3",
   "metadata": {},
   "source": [
    "### Wrapping Up\n",
    "\n",
    "So the intention of this article was to learn, experiment and take IBM's tutorial to the next level of depth.\n",
    "\n",
    "I believe we have succeeded, whilst I'll be the first to admit that some of this went straight over my head.\n",
    "\n",
    "But it's a good start indeed to our quantum journey, time for the next experiment. "
   ]
  }
 ],
 "metadata": {
  "kernelspec": {
   "display_name": ".venv (3.12.9)",
   "language": "python",
   "name": "python3"
  },
  "language_info": {
   "codemirror_mode": {
    "name": "ipython",
    "version": 3
   },
   "file_extension": ".py",
   "mimetype": "text/x-python",
   "name": "python",
   "nbconvert_exporter": "python",
   "pygments_lexer": "ipython3",
   "version": "3.12.9"
  }
 },
 "nbformat": 4,
 "nbformat_minor": 5
}
